{
  "nbformat": 4,
  "nbformat_minor": 0,
  "metadata": {
    "colab": {
      "name": "Untitled0.ipynb",
      "provenance": [],
      "authorship_tag": "ABX9TyM+wgfDDkKCprMqpujDaz3R",
      "include_colab_link": true
    },
    "kernelspec": {
      "name": "python3",
      "display_name": "Python 3"
    },
    "language_info": {
      "name": "python"
    }
  },
  "cells": [
    {
      "cell_type": "markdown",
      "metadata": {
        "id": "view-in-github",
        "colab_type": "text"
      },
      "source": [
        "<a href=\"https://colab.research.google.com/github/Yogesh0903/Basics-of-Python_SPC/blob/main/Python%206%20(04/04/2022).ipynb\" target=\"_parent\"><img src=\"https://colab.research.google.com/assets/colab-badge.svg\" alt=\"Open In Colab\"/></a>"
      ]
    },
    {
      "cell_type": "code",
      "execution_count": null,
      "metadata": {
        "id": "sjosiVPYA8gy"
      },
      "outputs": [],
      "source": [
        "Name = \"Yogesh Kumar Lalwani\"\n",
        "Roll_No = 9158\n",
        "Date = \"04/04/2022\""
      ]
    },
    {
      "cell_type": "code",
      "source": [
        "a = 33\n",
        "b = 20\n",
        "if b < a:\n",
        "  print(\"b is not greater than a\")\n",
        "\n"
      ],
      "metadata": {
        "colab": {
          "base_uri": "https://localhost:8080/",
          "height": 133
        },
        "id": "hKGeJQC-BCW4",
        "outputId": "677c326b-376f-47d5-9ee1-642610dcffa5"
      },
      "execution_count": null,
      "outputs": [
        {
          "output_type": "error",
          "ename": "IndentationError",
          "evalue": "ignored",
          "traceback": [
            "\u001b[0;36m  File \u001b[0;32m\"<ipython-input-2-ce1d0d3ac4b1>\"\u001b[0;36m, line \u001b[0;32m6\u001b[0m\n\u001b[0;31m    if b > a:\u001b[0m\n\u001b[0m             ^\u001b[0m\n\u001b[0;31mIndentationError\u001b[0m\u001b[0;31m:\u001b[0m unindent does not match any outer indentation level\n"
          ]
        }
      ]
    },
    {
      "cell_type": "code",
      "source": [
        " if b > a:\n",
        "   print(\"b is greater than a\") "
      ],
      "metadata": {
        "id": "ExpaRwOOBoFF"
      },
      "execution_count": null,
      "outputs": []
    },
    {
      "cell_type": "code",
      "source": [
        "a = 100\n",
        "b = 100\n",
        "if a>=b:\n",
        "  print(\"a is greater than b\")\n",
        "## Since both a & b are equal, therefore no result. "
      ],
      "metadata": {
        "colab": {
          "base_uri": "https://localhost:8080/"
        },
        "id": "iDhwLL1TB5Z8",
        "outputId": "3c484ee9-2690-4d01-99fb-b80848234f62"
      },
      "execution_count": null,
      "outputs": [
        {
          "output_type": "stream",
          "name": "stdout",
          "text": [
            "a is greater than b\n"
          ]
        }
      ]
    },
    {
      "cell_type": "code",
      "source": [
        "a = 5\n",
        "b = 3\n",
        "if a < b:\n",
        "  print(\"abc\")\n",
        "print(\"xyz\")"
      ],
      "metadata": {
        "colab": {
          "base_uri": "https://localhost:8080/"
        },
        "id": "E89LgQdpCYfg",
        "outputId": "50887cfd-2746-4877-b517-f78c3446b651"
      },
      "execution_count": null,
      "outputs": [
        {
          "output_type": "stream",
          "name": "stdout",
          "text": [
            "xyz\n"
          ]
        }
      ]
    },
    {
      "cell_type": "markdown",
      "source": [
        "IF Else Statements"
      ],
      "metadata": {
        "id": "zqhqyheQDWNC"
      }
    },
    {
      "cell_type": "code",
      "source": [
        "a = \"Arts\"\n",
        "b = \"Commerce\"\n",
        "c = \"Science\"\n",
        "x = input(\"Enter your Stream (i.e. Arts, Science, Commerce) \")\n",
        "if x == \"Arts\" :\n",
        " print(\"Your can pursue BA\")\n",
        "elif x == \"Commerce\" :\n",
        " print(\"Your can pursue BCom\")\n",
        "elif x == \"Science\" :\n",
        " print(\"Your can pursue BSc\")\n",
        "else:\n",
        " print (\"Invalid Input\")\n"
      ],
      "metadata": {
        "colab": {
          "base_uri": "https://localhost:8080/"
        },
        "id": "ORaI08CXDZRM",
        "outputId": "40e6d39f-a4ba-463e-bb12-bf92f876f268"
      },
      "execution_count": null,
      "outputs": [
        {
          "output_type": "stream",
          "name": "stdout",
          "text": [
            "Enter your Stream (i.e. Arts, Science, Commerce)XYZ\n",
            "Invalid Input\n"
          ]
        }
      ]
    }
  ]
}