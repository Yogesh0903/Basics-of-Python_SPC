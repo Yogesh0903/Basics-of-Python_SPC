{
 "cells": [
  {
   "cell_type": "code",
   "execution_count": 1,
   "metadata": {
    "id": "hh-qmGXlYKmq"
   },
   "outputs": [],
   "source": [
    "Name=\"Yogesh Kumar Lalwani\"\n",
    "Roll_No=9158"
   ]
  },
  {
   "cell_type": "markdown",
   "metadata": {
    "id": "Ysh26x44YiMZ"
   },
   "source": [
    "Sets"
   ]
  },
  {
   "cell_type": "code",
   "execution_count": 2,
   "metadata": {
    "colab": {
     "base_uri": "https://localhost:8080/",
     "height": 53
    },
    "id": "8EdILWWUYjUY",
    "outputId": "71be73eb-7064-48fc-e2ca-12305b172702"
   },
   "outputs": [
    {
     "name": "stdout",
     "output_type": "stream",
     "text": [
      "{'Name': 'Yogesh', 'Class': 'TY', 'Roll No': 9158, 'Result': 'First Class With Distinction'}\n"
     ]
    },
    {
     "data": {
      "text/plain": [
       "'First Class With Distinction'"
      ]
     },
     "execution_count": 2,
     "metadata": {},
     "output_type": "execute_result"
    }
   ],
   "source": [
    "d1={\"Name\":\"Yogesh\",\"Class\":\"TY\",\"Roll No\":9158,\"Result\":\"First Class With Distinction\"}\n",
    "print(d1)\n",
    "d1[\"Result\"]"
   ]
  },
  {
   "cell_type": "markdown",
   "metadata": {
    "id": "YpNJDdeXZaaU"
   },
   "source": [
    "get()"
   ]
  },
  {
   "cell_type": "code",
   "execution_count": 3,
   "metadata": {
    "colab": {
     "base_uri": "https://localhost:8080/"
    },
    "id": "NuyIp--yZeWM",
    "outputId": "d6b60da1-b1e4-4732-8a52-ecbd16935244"
   },
   "outputs": [
    {
     "data": {
      "text/plain": [
       "9158"
      ]
     },
     "execution_count": 3,
     "metadata": {},
     "output_type": "execute_result"
    }
   ],
   "source": [
    "d1.get(\"Roll No\")"
   ]
  },
  {
   "cell_type": "markdown",
   "metadata": {
    "id": "EzgYVkTsZlQ_"
   },
   "source": [
    "Change Value"
   ]
  },
  {
   "cell_type": "code",
   "execution_count": 4,
   "metadata": {
    "colab": {
     "base_uri": "https://localhost:8080/"
    },
    "id": "VjJjgRNyZo4-",
    "outputId": "c2b97b27-ca94-417f-8cab-b689b3e26d16"
   },
   "outputs": [
    {
     "name": "stdout",
     "output_type": "stream",
     "text": [
      "{'Name': 'Yogesh', 'Class': 'TYBSc', 'Roll No': 9158, 'Result': 'First Class With Distinction'}\n"
     ]
    }
   ],
   "source": [
    "d1[\"Class\"]=\"TYBSc\"\n",
    "print(d1)"
   ]
  },
  {
   "cell_type": "markdown",
   "metadata": {
    "id": "CMZtrzJbZ2sW"
   },
   "source": [
    "Extract Keys"
   ]
  },
  {
   "cell_type": "code",
   "execution_count": 5,
   "metadata": {
    "colab": {
     "base_uri": "https://localhost:8080/"
    },
    "id": "IS8g475raA5J",
    "outputId": "e872cd40-78dc-414f-b2cc-6a3e0f0a9d5f"
   },
   "outputs": [
    {
     "data": {
      "text/plain": [
       "dict_keys(['Name', 'Class', 'Roll No', 'Result'])"
      ]
     },
     "execution_count": 5,
     "metadata": {},
     "output_type": "execute_result"
    }
   ],
   "source": [
    "d1.keys()"
   ]
  },
  {
   "cell_type": "markdown",
   "metadata": {
    "id": "XnUPHoCMZ-Z-"
   },
   "source": [
    "Extract Values"
   ]
  },
  {
   "cell_type": "code",
   "execution_count": 6,
   "metadata": {
    "colab": {
     "base_uri": "https://localhost:8080/"
    },
    "id": "zX3ONeLFaEAD",
    "outputId": "1b9c6a73-fc9a-40c5-a56e-61e332826232"
   },
   "outputs": [
    {
     "data": {
      "text/plain": [
       "dict_values(['Yogesh', 'TYBSc', 9158, 'First Class With Distinction'])"
      ]
     },
     "execution_count": 6,
     "metadata": {},
     "output_type": "execute_result"
    }
   ],
   "source": [
    "d1.values()"
   ]
  },
  {
   "cell_type": "markdown",
   "metadata": {
    "id": "-ew8jhXiaI72"
   },
   "source": [
    "Extrcat both keys & values"
   ]
  },
  {
   "cell_type": "code",
   "execution_count": 7,
   "metadata": {
    "colab": {
     "base_uri": "https://localhost:8080/"
    },
    "id": "AulxbF7jaHIy",
    "outputId": "114e3747-d5ab-447a-f3a4-8fd58ebb3b5c"
   },
   "outputs": [
    {
     "data": {
      "text/plain": [
       "dict_items([('Name', 'Yogesh'), ('Class', 'TYBSc'), ('Roll No', 9158), ('Result', 'First Class With Distinction')])"
      ]
     },
     "execution_count": 7,
     "metadata": {},
     "output_type": "execute_result"
    }
   ],
   "source": [
    "d1.items()"
   ]
  },
  {
   "cell_type": "markdown",
   "metadata": {
    "id": "8qw5anyxaeXr"
   },
   "source": [
    "Nested Dictionary"
   ]
  },
  {
   "cell_type": "code",
   "execution_count": 8,
   "metadata": {
    "colab": {
     "base_uri": "https://localhost:8080/"
    },
    "id": "OpnfcfWHagUo",
    "outputId": "45682335-7bee-47e7-ff0d-d426514b45f6"
   },
   "outputs": [
    {
     "name": "stdout",
     "output_type": "stream",
     "text": [
      "{'actor1': {'name': 'Leonardo DiCaprio', 'year': 1974}, 'actor2': {'name': 'Robert Downey Jr.', 'year': 1965}}\n"
     ]
    }
   ],
   "source": [
    "mymovie={\n",
    "    \"actor1\" : {\n",
    "        \"name\" : \"Leonardo DiCaprio\",\n",
    "        \"year\" : 1974\n",
    "    },\n",
    "    \"actor2\" : {\n",
    "        \"name\" : \"Robert Downey Jr.\",\n",
    "        \"year\" : 1965\n",
    "    }\n",
    "}\n",
    "print(mymovie)"
   ]
  },
  {
   "cell_type": "code",
   "execution_count": 9,
   "metadata": {
    "colab": {
     "base_uri": "https://localhost:8080/"
    },
    "id": "km9UD3rgbi6W",
    "outputId": "d086afb8-5d7d-4c2c-e93b-be241f92ede7"
   },
   "outputs": [
    {
     "name": "stdout",
     "output_type": "stream",
     "text": [
      "{'c1': 'child1.', 'c2': 'child2.', 'c3': 'child3.'}\n"
     ]
    }
   ],
   "source": [
    "{\"child1.\" : {\"name\":\"x\",\"year\":1}}\n",
    "{\"child2.\" : {\"name\":\"y\",\"year\":2}}\n",
    "{\"child3.\" : {\"name\":\"z\",\"year\":3}}\n",
    "my_family={\"c1\":\"child1.\",\"c2\":\"child2.\",\"c3\":\"child3.\"}\n",
    "print(my_family)"
   ]
  }
 ],
 "metadata": {
  "colab": {
   "collapsed_sections": [],
   "name": "Python4",
   "provenance": []
  },
  "kernelspec": {
   "display_name": "Python 3 (ipykernel)",
   "language": "python",
   "name": "python3"
  },
  "language_info": {
   "codemirror_mode": {
    "name": "ipython",
    "version": 3
   },
   "file_extension": ".py",
   "mimetype": "text/x-python",
   "name": "python",
   "nbconvert_exporter": "python",
   "pygments_lexer": "ipython3",
   "version": "3.9.7"
  }
 },
 "nbformat": 4,
 "nbformat_minor": 1
}
