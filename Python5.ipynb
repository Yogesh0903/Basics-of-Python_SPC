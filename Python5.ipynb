{
 "cells": [
  {
   "cell_type": "code",
   "execution_count": 1,
   "metadata": {
    "id": "rRjxpvxpgEtU"
   },
   "outputs": [],
   "source": [
    "Name=\"Yogesh Kumar Lalwani\"\n",
    "Roll_No=9158"
   ]
  },
  {
   "cell_type": "code",
   "execution_count": 2,
   "metadata": {
    "id": "WNmiXQaogMQn"
   },
   "outputs": [],
   "source": [
    "A=[\"A\",\"B\",\"C\",\"D\"]\n",
    "B=(\"A\",\"B\",\"C\",\"D\")"
   ]
  },
  {
   "cell_type": "markdown",
   "metadata": {
    "id": "8BU-dBp6jiDa"
   },
   "source": [
    "Adding \"Z\" to the list"
   ]
  },
  {
   "cell_type": "code",
   "execution_count": 3,
   "metadata": {
    "colab": {
     "base_uri": "https://localhost:8080/"
    },
    "id": "so8AJTMFltCz",
    "outputId": "3b7d98f6-6cbe-4b9a-b5d5-b33ee693f765"
   },
   "outputs": [
    {
     "name": "stdout",
     "output_type": "stream",
     "text": [
      "['A', 'B', 'C', 'D']\n",
      "['A', 'B', 'C', 'D', 'Z']\n"
     ]
    }
   ],
   "source": [
    "print(A)\n",
    "A.append(\"Z\")\n",
    "print(A)\n",
    "\n",
    "### Tupples cannot be modified"
   ]
  },
  {
   "cell_type": "markdown",
   "metadata": {
    "id": "WyP9arXWjq8B"
   },
   "source": [
    "Replacing \"B\" with \"H\" in the list"
   ]
  },
  {
   "cell_type": "code",
   "execution_count": 4,
   "metadata": {
    "colab": {
     "base_uri": "https://localhost:8080/"
    },
    "id": "nbXFbaPFhjBF",
    "outputId": "1c642ae5-3b38-4524-8324-71e21bc17c32"
   },
   "outputs": [
    {
     "name": "stdout",
     "output_type": "stream",
     "text": [
      "['A', 'B', 'C', 'D', 'Z']\n",
      "['A', 'H', 'C', 'D', 'Z']\n"
     ]
    }
   ],
   "source": [
    "print(A)\n",
    "A[1]=\"H\"\n",
    "print(A)"
   ]
  },
  {
   "cell_type": "markdown",
   "metadata": {
    "id": "UE3mDp1Qjzbz"
   },
   "source": [
    "Creating copy of the list"
   ]
  },
  {
   "cell_type": "code",
   "execution_count": 5,
   "metadata": {
    "colab": {
     "base_uri": "https://localhost:8080/"
    },
    "id": "ndCM9M4woAqM",
    "outputId": "edfafc80-a977-449e-c24a-059939af547f"
   },
   "outputs": [
    {
     "name": "stdout",
     "output_type": "stream",
     "text": [
      "['A', 'H', 'C', 'D', 'Z']\n",
      "['A', 'H', 'C', 'D', 'Z']\n"
     ]
    }
   ],
   "source": [
    "print(A)\n",
    "A1=A.copy()\n",
    "print(A1)\n",
    "\n",
    "### Tupples cannot be copied"
   ]
  },
  {
   "cell_type": "markdown",
   "metadata": {
    "id": "Tnmnej-uj3ot"
   },
   "source": [
    "Clearing the copy of the list "
   ]
  },
  {
   "cell_type": "code",
   "execution_count": 6,
   "metadata": {
    "colab": {
     "base_uri": "https://localhost:8080/"
    },
    "id": "ikEDy-h8onkA",
    "outputId": "b7bae67f-61d4-41ab-d4b7-32371f009e6b"
   },
   "outputs": [
    {
     "name": "stdout",
     "output_type": "stream",
     "text": [
      "[]\n"
     ]
    }
   ],
   "source": [
    "A1.clear()\n",
    "print(A1)"
   ]
  },
  {
   "cell_type": "markdown",
   "metadata": {
    "id": "DKL7G4b6j84e"
   },
   "source": [
    "Adding \"M\" in 2nd position in the list"
   ]
  },
  {
   "cell_type": "code",
   "execution_count": 7,
   "metadata": {
    "colab": {
     "base_uri": "https://localhost:8080/"
    },
    "id": "cMrNPbcPo54k",
    "outputId": "7564cc3d-2a11-4070-a27e-c8df721817d7"
   },
   "outputs": [
    {
     "name": "stdout",
     "output_type": "stream",
     "text": [
      "['A', 'H', 'C', 'D', 'Z']\n",
      "['A', 'M', 'H', 'C', 'D', 'Z']\n"
     ]
    }
   ],
   "source": [
    "print(A)\n",
    "A.insert(1,\"M\")\n",
    "print(A)"
   ]
  }
 ],
 "metadata": {
  "colab": {
   "collapsed_sections": [],
   "name": "Python5",
   "provenance": []
  },
  "kernelspec": {
   "display_name": "Python 3 (ipykernel)",
   "language": "python",
   "name": "python3"
  },
  "language_info": {
   "codemirror_mode": {
    "name": "ipython",
    "version": 3
   },
   "file_extension": ".py",
   "mimetype": "text/x-python",
   "name": "python",
   "nbconvert_exporter": "python",
   "pygments_lexer": "ipython3",
   "version": "3.9.7"
  }
 },
 "nbformat": 4,
 "nbformat_minor": 1
}
