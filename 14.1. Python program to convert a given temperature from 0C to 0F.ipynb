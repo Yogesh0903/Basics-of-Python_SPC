{
  "cells": [
    {
      "cell_type": "markdown",
      "metadata": {
        "id": "view-in-github",
        "colab_type": "text"
      },
      "source": [
        "<a href=\"https://colab.research.google.com/github/Yogesh0903/Basics-of-Python_SPC/blob/main/14.1.%20Python%20program%20to%20convert%20a%20given%20temperature%20from%200C%20to%200F.ipynb\" target=\"_parent\"><img src=\"https://colab.research.google.com/assets/colab-badge.svg\" alt=\"Open In Colab\"/></a>"
      ]
    },
    {
      "cell_type": "markdown",
      "id": "1c693b92",
      "metadata": {
        "id": "1c693b92"
      },
      "source": [
        "Write a program to convert a given temperature from 0C to 0F.\n",
        "\n",
        "\n",
        "Run the program for given temperature 40Degree C."
      ]
    },
    {
      "cell_type": "markdown",
      "id": "76908324",
      "metadata": {
        "id": "76908324"
      },
      "source": [
        "Formula\n",
        "\n",
        "#fahrenheit = (celsius * 1.8) + 32"
      ]
    },
    {
      "cell_type": "code",
      "execution_count": null,
      "id": "5f612c5f",
      "metadata": {
        "id": "5f612c5f",
        "outputId": "5df50a42-75ad-4ab8-d9c3-fa4cfeea70e2"
      },
      "outputs": [
        {
          "name": "stdout",
          "output_type": "stream",
          "text": [
            "40.00 Celsius is equivalent to: 104.00 Fahrenheit\n"
          ]
        }
      ],
      "source": [
        "# Temperature in celsius degree\n",
        "celsius = 40\n",
        "\n",
        "# Converting the temperature to\n",
        "# fehrenheit using the above\n",
        "# mentioned formula\n",
        "fahrenheit = (celsius * 1.8) + 32\n",
        "\n",
        "# printing the result\n",
        "print('%.2f Celsius is equivalent to: %.2f Fahrenheit'%(celsius, fahrenheit))# Here %.2f is from dot formating.\n",
        "#first %.2f will take the value of celsios and second %.2f will take the value of fahrenheit\n"
      ]
    },
    {
      "cell_type": "code",
      "execution_count": null,
      "id": "6eac536e",
      "metadata": {
        "id": "6eac536e"
      },
      "outputs": [],
      "source": [
        ""
      ]
    }
  ],
  "metadata": {
    "kernelspec": {
      "display_name": "Python 3 (ipykernel)",
      "language": "python",
      "name": "python3"
    },
    "language_info": {
      "codemirror_mode": {
        "name": "ipython",
        "version": 3
      },
      "file_extension": ".py",
      "mimetype": "text/x-python",
      "name": "python",
      "nbconvert_exporter": "python",
      "pygments_lexer": "ipython3",
      "version": "3.8.8"
    },
    "colab": {
      "name": "14.1. Python program to convert a given temperature from 0C to 0F.ipynb",
      "provenance": [],
      "include_colab_link": true
    }
  },
  "nbformat": 4,
  "nbformat_minor": 5
}