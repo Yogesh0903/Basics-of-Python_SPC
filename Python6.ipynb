{
  "nbformat": 4,
  "nbformat_minor": 0,
  "metadata": {
    "colab": {
      "name": "Python6.ipynb",
      "provenance": [],
      "collapsed_sections": [],
      "authorship_tag": "ABX9TyMsh9cNWtL7C5NwQndRQ7iA",
      "include_colab_link": true
    },
    "kernelspec": {
      "name": "python3",
      "display_name": "Python 3"
    },
    "language_info": {
      "name": "python"
    }
  },
  "cells": [
    {
      "cell_type": "markdown",
      "metadata": {
        "id": "view-in-github",
        "colab_type": "text"
      },
      "source": [
        "<a href=\"https://colab.research.google.com/github/Yogesh0903/Basics-of-Python_SPC/blob/main/Python6.ipynb\" target=\"_parent\"><img src=\"https://colab.research.google.com/assets/colab-badge.svg\" alt=\"Open In Colab\"/></a>"
      ]
    },
    {
      "cell_type": "code",
      "execution_count": 1,
      "metadata": {
        "id": "ZRYDJke-_ALf"
      },
      "outputs": [],
      "source": [
        "Name = \"Yogesh Kumar Lalwani\"\n",
        "Roll_No = 9158\n",
        "Date = \"04/04/2022\""
      ]
    },
    {
      "cell_type": "markdown",
      "source": [
        "If Condition"
      ],
      "metadata": {
        "id": "S2E1Bnwk_9-B"
      }
    },
    {
      "cell_type": "code",
      "source": [
        "a=33\n",
        "b=20\n",
        "if b<a:\n",
        "  print(\"b is less than a\")"
      ],
      "metadata": {
        "colab": {
          "base_uri": "https://localhost:8080/"
        },
        "id": "krOBs-He_pK1",
        "outputId": "494ed747-e040-40b1-aa7b-fff3bfc0032a"
      },
      "execution_count": 2,
      "outputs": [
        {
          "output_type": "stream",
          "name": "stdout",
          "text": [
            "b is less than a\n"
          ]
        }
      ]
    },
    {
      "cell_type": "code",
      "source": [
        "a=6\n",
        "b=6\n",
        "if a>b:\n",
        "  print(\"a is greater than b\")\n",
        "\n",
        "  ### since the value of a & b is same therefore there is no result"
      ],
      "metadata": {
        "id": "LvZTagXzBL1n"
      },
      "execution_count": 3,
      "outputs": []
    },
    {
      "cell_type": "code",
      "source": [
        "a=6\n",
        "b=6\n",
        "if a>=b:\n",
        "  print(\"a is greater than or equal to b\")"
      ],
      "metadata": {
        "colab": {
          "base_uri": "https://localhost:8080/"
        },
        "id": "FYck2krNCS8t",
        "outputId": "0ba81341-6be6-48f7-f8d7-54a1e6ee4ecc"
      },
      "execution_count": 4,
      "outputs": [
        {
          "output_type": "stream",
          "name": "stdout",
          "text": [
            "a is greater than or equal to b\n"
          ]
        }
      ]
    },
    {
      "cell_type": "code",
      "source": [
        "if a<b:\n",
        "  print(\"abc\")\n",
        "print(123)\n",
        "\n",
        "  ### print(\"abc\") is the part of if function, the condition isn't satisfied there is no result. print(123) isn't the part of if function"
      ],
      "metadata": {
        "colab": {
          "base_uri": "https://localhost:8080/"
        },
        "id": "DDH5VP8vCyx5",
        "outputId": "bbef59ff-f894-44e4-b891-432129adfc39"
      },
      "execution_count": 5,
      "outputs": [
        {
          "output_type": "stream",
          "name": "stdout",
          "text": [
            "123\n"
          ]
        }
      ]
    },
    {
      "cell_type": "markdown",
      "source": [
        "If else\n",
        "\n",
        "If\n",
        "  Body of If\n",
        "else\n",
        "  Body of Else  "
      ],
      "metadata": {
        "id": "ZevkoAhgDVcb"
      }
    },
    {
      "cell_type": "code",
      "source": [
        "n=-9\n",
        "if n>0:\n",
        "  print(\"Positive Number\")\n",
        "else: \n",
        "  print(\"Negative Number\")"
      ],
      "metadata": {
        "colab": {
          "base_uri": "https://localhost:8080/"
        },
        "id": "08eFrxDQDYVy",
        "outputId": "52fe2a3b-37ec-4e6c-cb36-29189d31497a"
      },
      "execution_count": 6,
      "outputs": [
        {
          "output_type": "stream",
          "name": "stdout",
          "text": [
            "Negative Number\n"
          ]
        }
      ]
    },
    {
      "cell_type": "markdown",
      "source": [
        "If elif else"
      ],
      "metadata": {
        "id": "p7y5a69fG7Al"
      }
    },
    {
      "cell_type": "code",
      "source": [
        "num=-1\n",
        "if num>0:\n",
        " print(\"positive\")\n",
        "elif num==0:\n",
        " print(\"zero\")\n",
        "else:\n",
        " print(\"negative\")"
      ],
      "metadata": {
        "colab": {
          "base_uri": "https://localhost:8080/"
        },
        "id": "dDnAMD6IGxlf",
        "outputId": "7db4614a-0197-4f37-839e-669269107bad"
      },
      "execution_count": 7,
      "outputs": [
        {
          "output_type": "stream",
          "name": "stdout",
          "text": [
            "negative\n"
          ]
        }
      ]
    },
    {
      "cell_type": "markdown",
      "source": [
        "IF Else | Else If Statements"
      ],
      "metadata": {
        "id": "zqhqyheQDWNC"
      }
    },
    {
      "cell_type": "code",
      "source": [
        "a = \"Arts\"\n",
        "b = \"Commerce\"\n",
        "c = \"Science\"\n",
        "x = input(\"Enter your Stream (i.e. Arts, Science, Commerce) \")\n",
        "if x == \"Arts\" :\n",
        " print(\"Your can pursue BA\")\n",
        "elif x == \"Commerce\" :\n",
        " print(\"Your can pursue BCom\")\n",
        "elif x == \"Science\" :\n",
        " print(\"Your can pursue BSc\")\n",
        "else:\n",
        " print (\"Invalid Input\")\n"
      ],
      "metadata": {
        "id": "ORaI08CXDZRM",
        "colab": {
          "base_uri": "https://localhost:8080/"
        },
        "outputId": "09a37569-4f13-42b4-bcef-1f3e2d98de7d"
      },
      "execution_count": 8,
      "outputs": [
        {
          "output_type": "stream",
          "name": "stdout",
          "text": [
            "Enter your Stream (i.e. Arts, Science, Commerce) Science\n",
            "Your can pursue BSc\n"
          ]
        }
      ]
    },
    {
      "cell_type": "markdown",
      "source": [
        "Example"
      ],
      "metadata": {
        "id": "fGNik8TpJA7N"
      }
    },
    {
      "cell_type": "code",
      "source": [
        "marks=[90,80,70]\n",
        "for i in marks:\n",
        " if i==90:\n",
        "  print(\"you can take Science\")\n",
        " elif i==80:\n",
        "  print(\"you can take Commerce\")\n",
        " else: \n",
        "  print(\"you can take Arts\")"
      ],
      "metadata": {
        "colab": {
          "base_uri": "https://localhost:8080/"
        },
        "id": "_g2nbCNBJCH9",
        "outputId": "8c5ec183-50bf-49e7-f2e7-e9cb11c5bd69"
      },
      "execution_count": 9,
      "outputs": [
        {
          "output_type": "stream",
          "name": "stdout",
          "text": [
            "you can take Science\n",
            "you can take Commerce\n",
            "you can take Arts\n"
          ]
        }
      ]
    },
    {
      "cell_type": "code",
      "source": [
        "marks=int(input())\n",
        "c=[90,80,70]\n",
        "for i in c:\n",
        " if i>80:\n",
        "  print(\"you can take science\")\n",
        " elif i>70:\n",
        "  print(\"you can take commerce\")\n",
        " else:\n",
        "  print(\"you can take arts\")"
      ],
      "metadata": {
        "colab": {
          "base_uri": "https://localhost:8080/"
        },
        "id": "5Lxk4N3lKrsD",
        "outputId": "5586e4e0-c3b5-4453-d53b-b8df145c9daa"
      },
      "execution_count": 10,
      "outputs": [
        {
          "output_type": "stream",
          "name": "stdout",
          "text": [
            "90\n",
            "you can take science\n",
            "you can take commerce\n",
            "you can take arts\n"
          ]
        }
      ]
    }
  ]
}