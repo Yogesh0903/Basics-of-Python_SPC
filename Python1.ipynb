{
 "cells": [
  {
   "cell_type": "code",
   "execution_count": 1,
   "metadata": {
    "colab": {
     "base_uri": "https://localhost:8080/"
    },
    "id": "YH2JQKinAX9y",
    "outputId": "64c66634-1b82-4d02-97df-5f6116bee903"
   },
   "outputs": [
    {
     "name": "stdout",
     "output_type": "stream",
     "text": [
      "9\n",
      "9\n"
     ]
    }
   ],
   "source": [
    "a=\"Yogesh\"\n",
    "b=9\n",
    "c=\"9\"\n",
    "# 3 is number\n",
    "# 3 is string\n",
    "print(b)\n",
    "print(c)"
   ]
  },
  {
   "cell_type": "code",
   "execution_count": 2,
   "metadata": {
    "colab": {
     "base_uri": "https://localhost:8080/"
    },
    "id": "5_PofVFmA9yT",
    "outputId": "5d8ee9bf-948d-42e6-a7a9-5d0f33fad0dc"
   },
   "outputs": [
    {
     "name": "stdout",
     "output_type": "stream",
     "text": [
      "3.142857142857143\n"
     ]
    }
   ],
   "source": [
    "pi=22/7\n",
    "print(pi)"
   ]
  },
  {
   "cell_type": "code",
   "execution_count": 3,
   "metadata": {
    "colab": {
     "base_uri": "https://localhost:8080/"
    },
    "id": "ky0JevWZBGxM",
    "outputId": "f37a91e8-e17e-4237-82cc-2ffa67f087ca"
   },
   "outputs": [
    {
     "name": "stdout",
     "output_type": "stream",
     "text": [
      "Addition= 12\n",
      "Subtraction= 6\n",
      "Multiplication= 27\n",
      "Dividion= 3.0\n",
      "Power= 729\n",
      "Modulus= 0\n",
      "Floor Division= 3\n"
     ]
    }
   ],
   "source": [
    "x,y=9,3\n",
    "print(\"Addition=\",x+y)              \n",
    "print(\"Subtraction=\",x-y)\n",
    "print(\"Multiplication=\",x*y)\n",
    "print(\"Dividion=\",x/y)\n",
    "print(\"Power=\",x**y)\n",
    "print(\"Modulus=\",x%y)\n",
    "print(\"Floor Division=\",x//y)"
   ]
  },
  {
   "cell_type": "code",
   "execution_count": 4,
   "metadata": {
    "colab": {
     "base_uri": "https://localhost:8080/"
    },
    "id": "PJdmMlWlCNzn",
    "outputId": "fd502325-efc0-4b12-9d14-5f8ce0a0df43"
   },
   "outputs": [
    {
     "name": "stdout",
     "output_type": "stream",
     "text": [
      "Addition= 11.347777\n",
      "Subtraction= -5.061343000000001\n",
      "Multiplication= 25.78871246952\n",
      "Dividion= 0.38310610197256156\n",
      "Power= 12043.086826416398\n",
      "Modulus= 3.143217\n",
      "Floor Division= 0.0\n"
     ]
    }
   ],
   "source": [
    "x,y=3.143217,8.20456\n",
    "print(\"Addition=\",x+y)            # Addition          \n",
    "print(\"Subtraction=\",x-y)         # Subtraction\n",
    "print(\"Multiplication=\",x*y)      # Multiplication\n",
    "print(\"Dividion=\",x/y)            # Dividion\n",
    "print(\"Power=\",x**y)              # Power\n",
    "print(\"Modulus=\",x%y)             # Modulus/Remainder\n",
    "print(\"Floor Division=\",x//y)     # Floor Division"
   ]
  },
  {
   "cell_type": "code",
   "execution_count": 5,
   "metadata": {
    "colab": {
     "base_uri": "https://localhost:8080/"
    },
    "id": "cpkVk_6aDPGe",
    "outputId": "037b0d6d-e553-4bf0-dad3-3618b040231f"
   },
   "outputs": [
    {
     "name": "stdout",
     "output_type": "stream",
     "text": [
      "3.143217\n",
      "1.9181260000000009\n"
     ]
    }
   ],
   "source": [
    "x,y=3.143217,8.20456\n",
    "print(x%y)\n",
    "print(y%x)"
   ]
  },
  {
   "cell_type": "code",
   "execution_count": 6,
   "metadata": {
    "colab": {
     "base_uri": "https://localhost:8080/"
    },
    "id": "FD9W5zJlFJKJ",
    "outputId": "d1fbebb9-4648-4f69-9ed7-51f841220529"
   },
   "outputs": [
    {
     "name": "stdout",
     "output_type": "stream",
     "text": [
      "Sq Root= 1.7729120113530734\n"
     ]
    }
   ],
   "source": [
    "x**2\n",
    "print(\"Sq Root=\",x**0.5)"
   ]
  }
 ],
 "metadata": {
  "colab": {
   "name": "Python1",
   "provenance": []
  },
  "kernelspec": {
   "display_name": "Python 3 (ipykernel)",
   "language": "python",
   "name": "python3"
  },
  "language_info": {
   "codemirror_mode": {
    "name": "ipython",
    "version": 3
   },
   "file_extension": ".py",
   "mimetype": "text/x-python",
   "name": "python",
   "nbconvert_exporter": "python",
   "pygments_lexer": "ipython3",
   "version": "3.9.7"
  }
 },
 "nbformat": 4,
 "nbformat_minor": 1
}
