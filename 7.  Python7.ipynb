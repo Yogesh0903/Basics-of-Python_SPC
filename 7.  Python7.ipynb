{
  "nbformat": 4,
  "nbformat_minor": 0,
  "metadata": {
    "colab": {
      "name": "Python7.ipynb",
      "provenance": [],
      "collapsed_sections": [],
      "authorship_tag": "ABX9TyMEjuLl+e2bQAGlyDttkV06",
      "include_colab_link": true
    },
    "kernelspec": {
      "name": "python3",
      "display_name": "Python 3"
    },
    "language_info": {
      "name": "python"
    }
  },
  "cells": [
    {
      "cell_type": "markdown",
      "metadata": {
        "id": "view-in-github",
        "colab_type": "text"
      },
      "source": [
        "<a href=\"https://colab.research.google.com/github/Yogesh0903/Basics-of-Python_SPC/blob/main/Python7.ipynb\" target=\"_parent\"><img src=\"https://colab.research.google.com/assets/colab-badge.svg\" alt=\"Open In Colab\"/></a>"
      ]
    },
    {
      "cell_type": "code",
      "execution_count": 6,
      "metadata": {
        "id": "aC4wjp0KQ37o"
      },
      "outputs": [],
      "source": [
        "Name = \"Yogesh Kumar Lalwani\"\n",
        "Roll_No =  9158\n",
        "Date = \"06/04/2022\""
      ]
    },
    {
      "cell_type": "markdown",
      "source": [
        "Code to check Division HQ by Input (city name)\n",
        "\n"
      ],
      "metadata": {
        "id": "lnQ7wU0DXwr9"
      }
    },
    {
      "cell_type": "code",
      "source": [
        "# Know the Divisional HQ of Districts of various all regions of Maharashtra\n",
        "# Maharashtra State is Mainly Divided in the 5 regions Geographically.\n",
        "#Maharashtra = (\"Kokan, west_Maharashtra, North_Maharashtra, Marathwada, Vidarbh\")\n",
        "city =input(\"Enter city Name \")\n",
        "West_Maharashtra = (\"Kolhapur, Pune, Sangli, Satara, Solapur\")\n",
        "North_Maharashtra = (\"Dhule, Jalgaon, Nandurbar, Nashik,Ahmednagar\")\n",
        "Marathwada = (\"Aurangabad, Beed, Jalna, Osmanabad, Nanded, Latur, Parbhani, Hingoli\")\n",
        "Vidarbh = (\"Bhandara, Chandrapur, Gadch iroli, Gondia, Nagpur, Wardha, Akola, Amravati, Buldana, Yavatmal, Washim\")\n",
        "Amravati = (\"Akola, Amravati, Buldana, Yavatmal, Washim\")\n",
        "Kokan = (\"Mumbai City, Mumbai Suburban, Thane, Palghar, Raigad, Ratnagiri ,Sindhudurg\")\n",
        "\n",
        "\n",
        "if city in Kokan:\n",
        "       print(\"Division HQ is Located in Mumbai\")\n",
        "elif city in West_Maharashtra:\n",
        "       print(\"Division HQ is Located in Pune\")\n",
        "elif city in North_Maharashtra:\n",
        "        print(\"Division HQ is Located Nashik\")\n",
        "elif city in Marathwada:\n",
        "        print(\"Division HQ is Located in Aurangabad\")\n",
        "elif city in Vidarbh:\n",
        "        print(\"Division HQ is Located in Nagpur\") \n",
        "elif city in Amravati:\n",
        "        print(\"Division HQ is Located in Amravati\")\n",
        "else :\n",
        "  #City not is Maharashtra \n",
        "    print(\"City is out of Maharashtra\")    \n",
        "\n"
      ],
      "metadata": {
        "colab": {
          "base_uri": "https://localhost:8080/"
        },
        "id": "y8__Na8MRMqO",
        "outputId": "e4d26e17-bfd8-454d-d343-df4726215aef"
      },
      "execution_count": 16,
      "outputs": [
        {
          "output_type": "stream",
          "name": "stdout",
          "text": [
            "Enter city Name Nashik\n",
            "Division HQ is Located Nashik\n"
          ]
        }
      ]
    },
    {
      "cell_type": "code",
      "source": [
        ""
      ],
      "metadata": {
        "colab": {
          "base_uri": "https://localhost:8080/"
        },
        "id": "QaPFphlcUCvl",
        "outputId": "97b0549d-b5e6-459e-8027-ab382d3c5443"
      },
      "execution_count": 15,
      "outputs": [
        {
          "output_type": "stream",
          "name": "stdout",
          "text": [
            "Division HQ is Located in Aurangabad\n"
          ]
        }
      ]
    }
  ]
}
