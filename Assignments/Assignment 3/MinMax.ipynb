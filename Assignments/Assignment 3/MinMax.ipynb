{
  "nbformat": 4,
  "nbformat_minor": 0,
  "metadata": {
    "colab": {
      "name": "MinMax.ipynb",
      "provenance": [],
      "authorship_tag": "ABX9TyN6nCFteNJ0cnnQkNIBjmc7",
      "include_colab_link": true
    },
    "kernelspec": {
      "name": "python3",
      "display_name": "Python 3"
    },
    "language_info": {
      "name": "python"
    }
  },
  "cells": [
    {
      "cell_type": "markdown",
      "metadata": {
        "id": "view-in-github",
        "colab_type": "text"
      },
      "source": [
        "<a href=\"https://colab.research.google.com/github/Yogesh0903/Basics-of-Python_SPC/blob/main/Assignments/Assignment%203/MinMax.ipynb\" target=\"_parent\"><img src=\"https://colab.research.google.com/assets/colab-badge.svg\" alt=\"Open In Colab\"/></a>"
      ]
    },
    {
      "cell_type": "code",
      "execution_count": 2,
      "metadata": {
        "id": "L1kpm3iW0Hn4"
      },
      "outputs": [],
      "source": [
        "def MinMax(A,B,C):\n",
        "  print(\"The Minimum value from three input values is: \", min(A,B,C))\n",
        "  print(\"The Maxmimum value from three input values is: \", max(A,B,C))\n"
      ]
    }
  ]
}