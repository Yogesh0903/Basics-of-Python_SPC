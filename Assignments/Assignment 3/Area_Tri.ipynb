{
  "nbformat": 4,
  "nbformat_minor": 0,
  "metadata": {
    "colab": {
      "name": "Area_Tri.ipynb",
      "provenance": [],
      "collapsed_sections": [],
      "authorship_tag": "ABX9TyMg5qrWz2y8G+HtEc4DunHZ",
      "include_colab_link": true
    },
    "kernelspec": {
      "name": "python3",
      "display_name": "Python 3"
    },
    "language_info": {
      "name": "python"
    }
  },
  "cells": [
    {
      "cell_type": "markdown",
      "metadata": {
        "id": "view-in-github",
        "colab_type": "text"
      },
      "source": [
        "<a href=\"https://colab.research.google.com/github/Yogesh0903/Basics-of-Python_SPC/blob/main/Assignments/Assignment%203/Area_Tri.ipynb\" target=\"_parent\"><img src=\"https://colab.research.google.com/assets/colab-badge.svg\" alt=\"Open In Colab\"/></a>"
      ]
    },
    {
      "cell_type": "code",
      "execution_count": 10,
      "metadata": {
        "id": "ie9UzSp4verz"
      },
      "outputs": [],
      "source": [
        "def Area_Tri(base,height):\n",
        "  area = base*height/2\n",
        "  print(\"Area of the Triangle is = \", area)\n"
      ]
    }
  ]
}