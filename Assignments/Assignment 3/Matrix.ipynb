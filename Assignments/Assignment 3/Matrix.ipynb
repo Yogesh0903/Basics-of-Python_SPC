{
  "nbformat": 4,
  "nbformat_minor": 0,
  "metadata": {
    "colab": {
      "name": "Matrix.ipynb",
      "provenance": [],
      "authorship_tag": "ABX9TyMhX8Kqzp04uUalUbW3Vk49",
      "include_colab_link": true
    },
    "kernelspec": {
      "name": "python3",
      "display_name": "Python 3"
    },
    "language_info": {
      "name": "python"
    }
  },
  "cells": [
    {
      "cell_type": "markdown",
      "metadata": {
        "id": "view-in-github",
        "colab_type": "text"
      },
      "source": [
        "<a href=\"https://colab.research.google.com/github/Yogesh0903/Basics-of-Python_SPC/blob/main/Assignments/Assignment%203/Matrix.ipynb\" target=\"_parent\"><img src=\"https://colab.research.google.com/assets/colab-badge.svg\" alt=\"Open In Colab\"/></a>"
      ]
    },
    {
      "cell_type": "code",
      "execution_count": 7,
      "metadata": {
        "colab": {
          "base_uri": "https://localhost:8080/"
        },
        "id": "8CZqHc8kHXaO",
        "outputId": "8671c227-de1c-4654-aa50-009f846cdc1a"
      },
      "outputs": [
        {
          "output_type": "stream",
          "name": "stdout",
          "text": [
            "The Addition of Two Matrix is = \n",
            "[2, 6, 12]\n",
            "[5, 15, 13]\n",
            "[13, 15, 11]\n",
            "The Subtraction of Two Matrix is = \n",
            "[2, 6, 12]\n",
            "[5, 15, 13]\n",
            "[13, 15, 11]\n",
            "The Multiplication of Two Matrix is = \n",
            "[33, 49, 33]\n",
            "[81, 121, 73]\n",
            "[85, 137, 109]\n"
          ]
        }
      ],
      "source": [
        "def Matrix(X,Y):\n",
        "    print(\"The Addition of Two Matrix is = \")\n",
        "    result = [[X[i][j] + Y[i][j]  for j in range(len(X[0]))] for i in range(len(X))]\n",
        "    for r in result:\n",
        "      print(r)\n",
        "    print(\"The Subtraction of Two Matrix is = \")\n",
        "    result = [[X[i][j] + Y[i][j]  for j in range(len(X[0]))] for i in range(len(X))]\n",
        "    for r in result:\n",
        "        print(r)\n",
        "    print(\"The Multiplication of Two Matrix is = \")\n",
        "    result = [[sum(a*b for a,b in zip(X_row,Y_col)) for Y_col in zip(*Y)] for X_row in X]\n",
        "    for r in result:\n",
        "      print(r)  \n",
        " "
      ]
    }
  ]
}