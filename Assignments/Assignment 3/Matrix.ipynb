{
  "nbformat": 4,
  "nbformat_minor": 0,
  "metadata": {
    "colab": {
      "name": "Matrix.ipynb",
      "provenance": [],
      "collapsed_sections": [],
      "authorship_tag": "ABX9TyNZLGJL+uMgc84MpZ67sCey",
      "include_colab_link": true
    },
    "kernelspec": {
      "name": "python3",
      "display_name": "Python 3"
    },
    "language_info": {
      "name": "python"
    }
  },
  "cells": [
    {
      "cell_type": "markdown",
      "metadata": {
        "id": "view-in-github",
        "colab_type": "text"
      },
      "source": [
        "<a href=\"https://colab.research.google.com/github/Yogesh0903/Basics-of-Python_SPC/blob/main/Assignments/Assignment%203/Matrix.ipynb\" target=\"_parent\"><img src=\"https://colab.research.google.com/assets/colab-badge.svg\" alt=\"Open In Colab\"/></a>"
      ]
    },
    {
      "cell_type": "code",
      "execution_count": 5,
      "metadata": {
        "id": "8CZqHc8kHXaO"
      },
      "outputs": [],
      "source": [
        "def Matrix(X,Y):\n",
        "    print(\"The Addition of Two Matrix is = \")\n",
        "    result = [[X[i][j] + Y[i][j]  for j in range(len(X[0]))] for i in range(len(X))]\n",
        "    for r in result:\n",
        "      print(r)\n",
        "    print(\"The Subtraction of Two Matrix is = \")\n",
        "    result = [[X[i][j] - Y[i][j]  for j in range(len(X[0]))] for i in range(len(X))]\n",
        "    for r in result:\n",
        "        print(r)\n",
        "    print(\"The Multiplication of Two Matrix is = \")\n",
        "    result = [[sum(a*b for a,b in zip(X_row,Y_col)) for Y_col in zip(*Y)] for X_row in X]\n",
        "    for r in result:\n",
        "      print(r)  "
      ]
    }
  ]
}