{
  "nbformat": 4,
  "nbformat_minor": 0,
  "metadata": {
    "colab": {
      "name": "MatrixAB.ipynb",
      "provenance": [],
      "authorship_tag": "ABX9TyNAnvE9VDF9RBv1PCj0mGNM",
      "include_colab_link": true
    },
    "kernelspec": {
      "name": "python3",
      "display_name": "Python 3"
    },
    "language_info": {
      "name": "python"
    }
  },
  "cells": [
    {
      "cell_type": "markdown",
      "metadata": {
        "id": "view-in-github",
        "colab_type": "text"
      },
      "source": [
        "<a href=\"https://colab.research.google.com/github/Yogesh0903/Basics-of-Python_SPC/blob/main/Assignments/Assignment%203/MatrixAB.ipynb\" target=\"_parent\"><img src=\"https://colab.research.google.com/assets/colab-badge.svg\" alt=\"Open In Colab\"/></a>"
      ]
    },
    {
      "cell_type": "code",
      "execution_count": null,
      "metadata": {
        "id": "Z3pFptS4Qj0H"
      },
      "outputs": [],
      "source": [
        "def MatrixAB(X,Y):\n",
        "    print(\"The Addition of Two Matrix is = \")\n",
        "    result = [[X[i][j] + Y[i][j]  for j in range(len(X[0]))] for i in range(len(X))]\n",
        "    for r in result:\n",
        "      print(r)\n",
        "    print(\"The Subtraction of Two Matrix is = \")\n",
        "    result = [[X[i][j] - Y[i][j]  for j in range(len(X[0]))] for i in range(len(X))]\n",
        "    for r in result:\n",
        "        print(r)\n",
        "    print(\"The Multiplication of Two Matrix is = \")\n",
        "    result = [[sum(a*b for a,b in zip(X_row,Y_col)) for Y_col in zip(*Y)] for X_row in X]\n",
        "    for r in result:\n",
        "      print(r)"
      ]
    }
  ]
}