{
  "nbformat": 4,
  "nbformat_minor": 0,
  "metadata": {
    "colab": {
      "name": "FourStat.ipynb",
      "provenance": [],
      "collapsed_sections": [],
      "authorship_tag": "ABX9TyMlrMX6/wRtUTDO345VoBRk",
      "include_colab_link": true
    },
    "kernelspec": {
      "name": "python3",
      "display_name": "Python 3"
    },
    "language_info": {
      "name": "python"
    }
  },
  "cells": [
    {
      "cell_type": "markdown",
      "metadata": {
        "id": "view-in-github",
        "colab_type": "text"
      },
      "source": [
        "<a href=\"https://colab.research.google.com/github/Yogesh0903/Basics-of-Python_SPC/blob/main/Assignments/Assignment%203/FourStat.ipynb\" target=\"_parent\"><img src=\"https://colab.research.google.com/assets/colab-badge.svg\" alt=\"Open In Colab\"/></a>"
      ]
    },
    {
      "cell_type": "code",
      "execution_count": 23,
      "metadata": {
        "id": "gMNiHUH_1OJr"
      },
      "outputs": [],
      "source": [
        "def FourStat(Data):\n",
        "  import numpy as np\n",
        "  Mean = np.mean(Data)\n",
        "  print(\"Mean of the Given Data is = \",Mean)\n",
        "  def mode(ls):\n",
        "    # dictionary to keep count of each value\n",
        "    counts = {}\n",
        "    # iterate through the list\n",
        "    for item in ls:\n",
        "        if item in counts:\n",
        "            counts[item] += 1\n",
        "        else:\n",
        "            counts[item] = 1\n",
        "    # get the keys with the max counts\n",
        "    return [key for key in counts.keys() if counts[key] == max(counts.values())]\n",
        "\n",
        "  Mode = mode(Data)\n",
        "  print(\"Mode of the Given Data is = \",Mode)\n",
        "  from statistics import stdev\n",
        "  SD = stdev(Data)\n",
        "  print(\"Standard Deviation of the Given Data is = \",SD) \n",
        "  COV = SD/Mean\n",
        "  print(\"Coefficient of Variation of the Given Data is = \",COV)                        \n"
      ]
    }
  ]
}