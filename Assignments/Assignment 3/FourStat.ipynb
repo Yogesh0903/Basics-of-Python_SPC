{
  "nbformat": 4,
  "nbformat_minor": 0,
  "metadata": {
    "colab": {
      "name": "FourStat.ipynb",
      "provenance": [],
      "collapsed_sections": [],
      "authorship_tag": "ABX9TyNGaSyvKy91dHp5PsycXdyH",
      "include_colab_link": true
    },
    "kernelspec": {
      "name": "python3",
      "display_name": "Python 3"
    },
    "language_info": {
      "name": "python"
    }
  },
  "cells": [
    {
      "cell_type": "markdown",
      "metadata": {
        "id": "view-in-github",
        "colab_type": "text"
      },
      "source": [
        "<a href=\"https://colab.research.google.com/github/Yogesh0903/Basics-of-Python_SPC/blob/main/Assignments/Assignment%203/FourStat.ipynb\" target=\"_parent\"><img src=\"https://colab.research.google.com/assets/colab-badge.svg\" alt=\"Open In Colab\"/></a>"
      ]
    },
    {
      "cell_type": "code",
      "execution_count": 1,
      "metadata": {
        "id": "gMNiHUH_1OJr"
      },
      "outputs": [],
      "source": [
        "def FourStat(Data):\n",
        "  import numpy\n",
        "  Mean = mean.numpy(Data)\n",
        "  print(\"Mean of the Given Data is = \",Mean)\n",
        "  from scipy.stats import mode\n",
        "  Mode = stats.mode(Data)\n",
        "  print(\"Mode of the Given Data is = \",Mode)\n",
        "  from statistics import stdev\n",
        "  SD = stdev(Data)\n",
        "  print(\"Standard Deviation of the Given Data is = \",SD) \n",
        "  COV = SD/Mean\n",
        "  print(\"Coefficient of Variation of the Given Data is = \",COV)                        \n",
        "  "
      ]
    }
  ]
}