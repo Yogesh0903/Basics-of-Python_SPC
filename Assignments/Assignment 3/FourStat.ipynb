{
  "nbformat": 4,
  "nbformat_minor": 0,
  "metadata": {
    "colab": {
      "name": "FourStat.ipynb",
      "provenance": [],
      "collapsed_sections": [],
      "authorship_tag": "ABX9TyPar6K/GwwAnjY4ZFPXzyPw",
      "include_colab_link": true
    },
    "kernelspec": {
      "name": "python3",
      "display_name": "Python 3"
    },
    "language_info": {
      "name": "python"
    }
  },
  "cells": [
    {
      "cell_type": "markdown",
      "metadata": {
        "id": "view-in-github",
        "colab_type": "text"
      },
      "source": [
        "<a href=\"https://colab.research.google.com/github/Yogesh0903/Basics-of-Python_SPC/blob/main/Assignments/Assignment%203/FourStat.ipynb\" target=\"_parent\"><img src=\"https://colab.research.google.com/assets/colab-badge.svg\" alt=\"Open In Colab\"/></a>"
      ]
    },
    {
      "cell_type": "code",
      "execution_count": 22,
      "metadata": {
        "id": "gMNiHUH_1OJr",
        "colab": {
          "base_uri": "https://localhost:8080/"
        },
        "outputId": "a39151d1-7ef6-4eb6-cec4-ff618f342739"
      },
      "outputs": [
        {
          "output_type": "stream",
          "name": "stdout",
          "text": [
            "Mean of the Given Data is =  4.14\n",
            "Mode of the Given Data is =  [3.1, 2.5, 7.9, 3.4, 5.8, 1.9, 2.4, 3.2, 9.1, 2.1]\n",
            "Standard Deviation of the Given Data is =  2.558298045359236\n",
            "Coefficient of Variation of the Given Data is =  0.6179463877679314\n"
          ]
        }
      ],
      "source": [
        "def FourStat(Data):\n",
        "  import numpy as np\n",
        "  Mean = np.mean(Data)\n",
        "  print(\"Mean of the Given Data is = \",Mean)\n",
        "  def mode(ls):\n",
        "    # dictionary to keep count of each value\n",
        "    counts = {}\n",
        "    # iterate through the list\n",
        "    for item in ls:\n",
        "        if item in counts:\n",
        "            counts[item] += 1\n",
        "        else:\n",
        "            counts[item] = 1\n",
        "    # get the keys with the max counts\n",
        "    return [key for key in counts.keys() if counts[key] == max(counts.values())]\n",
        "\n",
        "  Mode = mode(Data)\n",
        "  print(\"Mode of the Given Data is = \",Mode)\n",
        "  from statistics import stdev\n",
        "  SD = stdev(Data)\n",
        "  print(\"Standard Deviation of the Given Data is = \",SD) \n",
        "  COV = SD/Mean\n",
        "  print(\"Coefficient of Variation of the Given Data is = \",COV)                        \n",
        "Data = [3.1, 2.5, 7.9, 3.4, 5.8, 1.9, 2.4, 3.2, 9.1, 2.1]\n",
        "FourStat(Data)"
      ]
    }
  ]
}