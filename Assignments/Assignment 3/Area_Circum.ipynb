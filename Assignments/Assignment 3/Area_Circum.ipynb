{
  "nbformat": 4,
  "nbformat_minor": 0,
  "metadata": {
    "colab": {
      "name": "Area_Circum.ipynb",
      "provenance": [],
      "collapsed_sections": [],
      "authorship_tag": "ABX9TyPxOsqFya0fmG9zQ7QqOziQ",
      "include_colab_link": true
    },
    "kernelspec": {
      "name": "python3",
      "display_name": "Python 3"
    },
    "language_info": {
      "name": "python"
    }
  },
  "cells": [
    {
      "cell_type": "markdown",
      "metadata": {
        "id": "view-in-github",
        "colab_type": "text"
      },
      "source": [
        "<a href=\"https://colab.research.google.com/github/Yogesh0903/Basics-of-Python_SPC/blob/main/Assignments/Assignment%203/Area_Circum.ipynb\" target=\"_parent\"><img src=\"https://colab.research.google.com/assets/colab-badge.svg\" alt=\"Open In Colab\"/></a>"
      ]
    },
    {
      "cell_type": "code",
      "execution_count": 1,
      "metadata": {
        "id": "l1zfDY9v9hQJ"
      },
      "outputs": [],
      "source": [
        "import math\n",
        "def Area_Circum(Radius):  \n",
        "  area = Radius** 2 * math.pi    \n",
        "  print (\" The area of the given circle is: \", area)\n",
        "  circumference = 2*math.pi*Radius\n",
        "  print (\" The circumference of the given circle is: \",circumference )\n"
      ]
    }
  ]
}