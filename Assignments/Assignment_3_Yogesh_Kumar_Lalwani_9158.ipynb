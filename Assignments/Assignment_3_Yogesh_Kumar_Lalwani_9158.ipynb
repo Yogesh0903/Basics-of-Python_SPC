{
  "nbformat": 4,
  "nbformat_minor": 0,
  "metadata": {
    "colab": {
      "name": "Assignment_3_Yogesh_Kumar_Lalwani_9158.ipynb",
      "provenance": [],
      "collapsed_sections": [],
      "authorship_tag": "ABX9TyMc2+Ms+aNXnviaOZovvrmE",
      "include_colab_link": true
    },
    "kernelspec": {
      "name": "python3",
      "display_name": "Python 3"
    },
    "language_info": {
      "name": "python"
    }
  },
  "cells": [
    {
      "cell_type": "markdown",
      "metadata": {
        "id": "view-in-github",
        "colab_type": "text"
      },
      "source": [
        "<a href=\"https://colab.research.google.com/github/Yogesh0903/Basics-of-Python_SPC/blob/main/Assignments/Assignment_3_Yogesh_Kumar_Lalwani_9158.ipynb\" target=\"_parent\"><img src=\"https://colab.research.google.com/assets/colab-badge.svg\" alt=\"Open In Colab\"/></a>"
      ]
    },
    {
      "cell_type": "markdown",
      "source": [
        " **Name -** *Yogesh Kumar Lalwani* \n",
        "\n",
        " **Roll No. -** *9158* \n",
        "\n",
        " **Question No.** *41* **to** *48*"
      ],
      "metadata": {
        "id": "8JxKmySj5k4n"
      }
    },
    {
      "cell_type": "code",
      "source": [
        "!pip install import_ipynb\n",
        "import import_ipynb\n",
        "import requests\n",
        "# Saves file to colab working directory"
      ],
      "metadata": {
        "colab": {
          "base_uri": "https://localhost:8080/"
        },
        "id": "GEx5xKVHnRZN",
        "outputId": "69260ba7-23c8-4229-c44a-e16ab3186ec4"
      },
      "execution_count": 50,
      "outputs": [
        {
          "output_type": "stream",
          "name": "stdout",
          "text": [
            "Requirement already satisfied: import_ipynb in /usr/local/lib/python3.7/dist-packages (0.1.4)\n",
            "Requirement already satisfied: nbformat in /usr/local/lib/python3.7/dist-packages (from import_ipynb) (5.3.0)\n",
            "Requirement already satisfied: IPython in /usr/local/lib/python3.7/dist-packages (from import_ipynb) (5.5.0)\n",
            "Requirement already satisfied: decorator in /usr/local/lib/python3.7/dist-packages (from IPython->import_ipynb) (4.4.2)\n",
            "Requirement already satisfied: pexpect in /usr/local/lib/python3.7/dist-packages (from IPython->import_ipynb) (4.8.0)\n",
            "Requirement already satisfied: prompt-toolkit<2.0.0,>=1.0.4 in /usr/local/lib/python3.7/dist-packages (from IPython->import_ipynb) (1.0.18)\n",
            "Requirement already satisfied: pygments in /usr/local/lib/python3.7/dist-packages (from IPython->import_ipynb) (2.6.1)\n",
            "Requirement already satisfied: simplegeneric>0.8 in /usr/local/lib/python3.7/dist-packages (from IPython->import_ipynb) (0.8.1)\n",
            "Requirement already satisfied: setuptools>=18.5 in /usr/local/lib/python3.7/dist-packages (from IPython->import_ipynb) (57.4.0)\n",
            "Requirement already satisfied: pickleshare in /usr/local/lib/python3.7/dist-packages (from IPython->import_ipynb) (0.7.5)\n",
            "Requirement already satisfied: traitlets>=4.2 in /usr/local/lib/python3.7/dist-packages (from IPython->import_ipynb) (5.1.1)\n",
            "Requirement already satisfied: six>=1.9.0 in /usr/local/lib/python3.7/dist-packages (from prompt-toolkit<2.0.0,>=1.0.4->IPython->import_ipynb) (1.15.0)\n",
            "Requirement already satisfied: wcwidth in /usr/local/lib/python3.7/dist-packages (from prompt-toolkit<2.0.0,>=1.0.4->IPython->import_ipynb) (0.2.5)\n",
            "Requirement already satisfied: fastjsonschema in /usr/local/lib/python3.7/dist-packages (from nbformat->import_ipynb) (2.15.3)\n",
            "Requirement already satisfied: jupyter-core in /usr/local/lib/python3.7/dist-packages (from nbformat->import_ipynb) (4.10.0)\n",
            "Requirement already satisfied: jsonschema>=2.6 in /usr/local/lib/python3.7/dist-packages (from nbformat->import_ipynb) (4.3.3)\n",
            "Requirement already satisfied: attrs>=17.4.0 in /usr/local/lib/python3.7/dist-packages (from jsonschema>=2.6->nbformat->import_ipynb) (21.4.0)\n",
            "Requirement already satisfied: importlib-resources>=1.4.0 in /usr/local/lib/python3.7/dist-packages (from jsonschema>=2.6->nbformat->import_ipynb) (5.7.1)\n",
            "Requirement already satisfied: typing-extensions in /usr/local/lib/python3.7/dist-packages (from jsonschema>=2.6->nbformat->import_ipynb) (4.2.0)\n",
            "Requirement already satisfied: pyrsistent!=0.17.0,!=0.17.1,!=0.17.2,>=0.14.0 in /usr/local/lib/python3.7/dist-packages (from jsonschema>=2.6->nbformat->import_ipynb) (0.18.1)\n",
            "Requirement already satisfied: importlib-metadata in /usr/local/lib/python3.7/dist-packages (from jsonschema>=2.6->nbformat->import_ipynb) (4.11.3)\n",
            "Requirement already satisfied: zipp>=3.1.0 in /usr/local/lib/python3.7/dist-packages (from importlib-resources>=1.4.0->jsonschema>=2.6->nbformat->import_ipynb) (3.8.0)\n",
            "Requirement already satisfied: ptyprocess>=0.5 in /usr/local/lib/python3.7/dist-packages (from pexpect->IPython->import_ipynb) (0.7.0)\n"
          ]
        }
      ]
    },
    {
      "cell_type": "markdown",
      "source": [
        "\n",
        "```\n",
        "# Q41 ] Write a user defined function to find and print the A-B and B-A of two sets A and B. Run the function for two sets A={a, b, c, d} and B={b, c, e}.\n",
        "\n",
        "```\n",
        "\n"
      ],
      "metadata": {
        "id": "ouy-9Zc86n33"
      }
    },
    {
      "cell_type": "code",
      "execution_count": 26,
      "metadata": {
        "id": "xSntfgJh5gS6",
        "colab": {
          "base_uri": "https://localhost:8080/"
        },
        "outputId": "66f630eb-6491-46da-ea1d-984a95c3437f"
      },
      "outputs": [
        {
          "output_type": "stream",
          "name": "stdout",
          "text": [
            "Set A minus Set B (A-B) is : {'a', 'd'}\n",
            "Set B minus Set A (B-A) is : {'e'}\n"
          ]
        }
      ],
      "source": [
        "def A_B(A,B):\n",
        "  A_minus_B = A - B\n",
        "  B_minus_A = B - A\n",
        "  print (\"Set A minus Set B (A-B) is :\",A_minus_B)\n",
        "  print (\"Set B minus Set A (B-A) is :\",B_minus_A)\n",
        "A={\"a\", \"b\", \"c\", \"d\"} #Given\n",
        "B={\"b\", \"c\", \"e\"}  # Given\n",
        "A_B(A,B)"
      ]
    },
    {
      "cell_type": "markdown",
      "source": [
        "\n",
        "```\n",
        "Q42] Create a module to find area and circumference of a circle. Run the module for radius (r)=50 cm and print the output.\n",
        "\n",
        "```\n",
        "\n"
      ],
      "metadata": {
        "id": "DcIZZ3y-8QkI"
      }
    },
    {
      "cell_type": "code",
      "source": [
        "\n",
        "# If you are using GitHub, make sure you get the \"Raw\" version of the code\n",
        "url = 'https://raw.githubusercontent.com/Yogesh0903/Basics-of-Python_SPC/main/Assignments/Assignment%203/Area_Circum.ipynb'\n",
        "r = requests.get(url)\n",
        "\n",
        "# make sure your filename is the same as how you want to import \n",
        "with open('Area_Circum.ipynb', 'w') as f:\n",
        "    f.write(r.text)\n",
        "import Area_Circum"
      ],
      "metadata": {
        "id": "oXfOSpVOiUfl",
        "colab": {
          "base_uri": "https://localhost:8080/"
        },
        "outputId": "3d13af6a-8339-49a1-f98e-027a9b05d362"
      },
      "execution_count": 27,
      "outputs": [
        {
          "output_type": "stream",
          "name": "stdout",
          "text": [
            "importing Jupyter notebook from Area_Circum.ipynb\n"
          ]
        }
      ]
    },
    {
      "cell_type": "code",
      "source": [
        "Radius=50 ## Given\n",
        "Area_Circum.Area_Circum(Radius)"
      ],
      "metadata": {
        "colab": {
          "base_uri": "https://localhost:8080/"
        },
        "id": "4Ivlbw7ToDqE",
        "outputId": "3a070ac4-0114-4a4e-fe54-a8555dafa97b"
      },
      "execution_count": 28,
      "outputs": [
        {
          "output_type": "stream",
          "name": "stdout",
          "text": [
            " The area of the given circle is:  7853.981633974483\n",
            " The circumference of the given circle is:  314.1592653589793\n"
          ]
        }
      ]
    },
    {
      "cell_type": "markdown",
      "source": [
        "\n",
        "```\n",
        "Q43] Create a module to find minimum and maximum numbers between n numbers. Find the minimum and maximum temperature (in Celsius) from the following data.\n",
        "15, 20, 48, 10, 40, 42, 35, 30, 37, 25\n",
        "\n",
        "```\n",
        "\n"
      ],
      "metadata": {
        "id": "sYLsYyW3p3mH"
      }
    },
    {
      "cell_type": "code",
      "source": [
        "url = 'https://raw.githubusercontent.com/Yogesh0903/Basics-of-Python_SPC/main/Assignments/Assignment%203/Max_Min.ipynb'\n",
        "r = requests.get(url)\n",
        "with open('Max_Min.ipynb', 'w') as f:\n",
        "    f.write(r.text)\n",
        "import Max_Min"
      ],
      "metadata": {
        "id": "wAmXDr-nqBEM",
        "colab": {
          "base_uri": "https://localhost:8080/"
        },
        "outputId": "cbf4cf8b-e397-4368-c109-a5f3f9f221e0"
      },
      "execution_count": 29,
      "outputs": [
        {
          "output_type": "stream",
          "name": "stdout",
          "text": [
            "importing Jupyter notebook from Max_Min.ipynb\n"
          ]
        }
      ]
    },
    {
      "cell_type": "code",
      "source": [
        "Data = [15, 20, 48, 10, 40, 42, 35, 30, 37, 25]\n",
        "Max_Min.Max_Min(Data)"
      ],
      "metadata": {
        "colab": {
          "base_uri": "https://localhost:8080/"
        },
        "id": "UwyAEbxgvJyr",
        "outputId": "31ceb10f-2364-43c8-e71a-0956f33ef116"
      },
      "execution_count": 30,
      "outputs": [
        {
          "output_type": "stream",
          "name": "stdout",
          "text": [
            "The Maxmimum value from the input values is:  48\n",
            "The Minimum value from the input values is:  10\n"
          ]
        }
      ]
    },
    {
      "cell_type": "markdown",
      "source": [
        "\n",
        "```\n",
        "Q44] Write a module to calculate area a triangle when base and height of a triangle are given.\n",
        "Find the area of triangle whose base=10 cm and height=5cm.\n",
        "\n",
        "```\n",
        "\n"
      ],
      "metadata": {
        "id": "GqAaEgPzvUdf"
      }
    },
    {
      "cell_type": "code",
      "source": [
        "url = 'https://raw.githubusercontent.com/Yogesh0903/Basics-of-Python_SPC/main/Assignments/Assignment%203/Area_Tri.ipynb'\n",
        "r = requests.get(url)\n",
        "with open('Area_Tri.ipynb', 'w') as f:\n",
        "    f.write(r.text)\n",
        "import Area_Tri"
      ],
      "metadata": {
        "id": "CRgYldz4vaek",
        "colab": {
          "base_uri": "https://localhost:8080/"
        },
        "outputId": "e45be293-b2a7-47c7-a73e-703786360365"
      },
      "execution_count": 31,
      "outputs": [
        {
          "output_type": "stream",
          "name": "stdout",
          "text": [
            "importing Jupyter notebook from Area_Tri.ipynb\n"
          ]
        }
      ]
    },
    {
      "cell_type": "code",
      "source": [
        "base = 10\n",
        "height = 5\n",
        "Area_Tri.Area_Tri(base,height)"
      ],
      "metadata": {
        "colab": {
          "base_uri": "https://localhost:8080/"
        },
        "id": "QnLZknTNwhuL",
        "outputId": "f7064702-a34d-4876-9850-1c48d4d10dc7"
      },
      "execution_count": 32,
      "outputs": [
        {
          "output_type": "stream",
          "name": "stdout",
          "text": [
            "Area of the Triangle is =  25.0\n"
          ]
        }
      ]
    },
    {
      "cell_type": "markdown",
      "source": [
        "\n",
        "```\n",
        "Q45] Write a module to compute minimum and maximum numbers between three numbers. Find\n",
        "the minimum and maximum numbers between three numbers: 20, 7, 10\n",
        "\n",
        "```\n",
        "\n"
      ],
      "metadata": {
        "id": "hroKsvwhzzwI"
      }
    },
    {
      "cell_type": "code",
      "source": [
        "url = 'https://raw.githubusercontent.com/Yogesh0903/Basics-of-Python_SPC/main/Assignments/Assignment%203/MinMax.ipynb'\n",
        "r = requests.get(url)\n",
        "with open('MinMax.ipynb', 'w') as f:\n",
        "    f.write(r.text)\n",
        "import MinMax"
      ],
      "metadata": {
        "colab": {
          "base_uri": "https://localhost:8080/"
        },
        "id": "DOi6tdUfz_fj",
        "outputId": "b88bf71a-33f8-47de-e68e-708518abe531"
      },
      "execution_count": 33,
      "outputs": [
        {
          "output_type": "stream",
          "name": "stdout",
          "text": [
            "importing Jupyter notebook from MinMax.ipynb\n"
          ]
        }
      ]
    },
    {
      "cell_type": "code",
      "source": [
        "A,B,C = 20, 7, 10 ## Given\n",
        "MinMax.MinMax(A,B,C)"
      ],
      "metadata": {
        "colab": {
          "base_uri": "https://localhost:8080/"
        },
        "id": "QHDUiufb0pAD",
        "outputId": "b2326dca-69b1-4a5e-818e-9aa18bf14058"
      },
      "execution_count": 34,
      "outputs": [
        {
          "output_type": "stream",
          "name": "stdout",
          "text": [
            "The Minimum value from three input values is:  7\n",
            "The Maxmimum value from three input values is:  20\n"
          ]
        }
      ]
    },
    {
      "cell_type": "markdown",
      "source": [
        "\n",
        "```\n",
        "Q46] Write a module to find the mean, mode, standard deviation and coefficient of variation of n\n",
        "observations. Hence find and print the four values for the following set of observations.\n",
        "3.1, 2.5, 7.9, 3.4, 5.8, 1.9, 2.4, 3.2, 9.1, 2.1\n",
        "\n",
        "```\n",
        "\n"
      ],
      "metadata": {
        "id": "daMcjWS905gM"
      }
    },
    {
      "cell_type": "code",
      "source": [
        "url = 'https://raw.githubusercontent.com/Yogesh0903/Basics-of-Python_SPC/main/Assignments/Assignment%203/FourStat.ipynb'\n",
        "r = requests.get(url)\n",
        "with open('FourStat.ipynb', 'w') as f:\n",
        "    f.write(r.text)\n",
        "import FourStat"
      ],
      "metadata": {
        "id": "VQjC7k5X3Pc_",
        "colab": {
          "base_uri": "https://localhost:8080/"
        },
        "outputId": "25912b55-36e8-4236-b4f7-c9b8d27169ae"
      },
      "execution_count": 35,
      "outputs": [
        {
          "output_type": "stream",
          "name": "stdout",
          "text": [
            "importing Jupyter notebook from FourStat.ipynb\n"
          ]
        }
      ]
    },
    {
      "cell_type": "code",
      "source": [
        "Data = [3.1, 2.5, 7.9, 3.4, 5.8, 1.9, 2.4, 3.2, 9.1, 2.1] #Given\n",
        "FourStat.FourStat(Data)"
      ],
      "metadata": {
        "colab": {
          "base_uri": "https://localhost:8080/"
        },
        "id": "HIPpGLF83dTL",
        "outputId": "def34279-26be-4100-b1bd-b80c12a23804"
      },
      "execution_count": 36,
      "outputs": [
        {
          "output_type": "stream",
          "name": "stdout",
          "text": [
            "Mean of the Given Data is =  4.14\n",
            "Mode of the Given Data is =  [3.1, 2.5, 7.9, 3.4, 5.8, 1.9, 2.4, 3.2, 9.1, 2.1]\n",
            "Standard Deviation of the Given Data is =  2.558298045359236\n",
            "Coefficient of Variation of the Given Data is =  0.6179463877679314\n"
          ]
        }
      ]
    },
    {
      "cell_type": "markdown",
      "source": [
        "\n",
        "```\n",
        "Q47] Write a module to calculate addition, multiplication and subtraction of two matrices. Find\n",
        "A+B and A-B for matrices A and B:\n",
        "A = [1 2 3\n",
        "     1 6 7\n",
        "     5 6 7] \n",
        "``` \n",
        "```    \n",
        "B = [1 4 9\n",
        "     4 9 6\n",
        "     8 9 4]\n",
        "```\n",
        "\n"
      ],
      "metadata": {
        "id": "cL6Xsd5z9vnI"
      }
    },
    {
      "cell_type": "code",
      "source": [
        "url = 'https://raw.githubusercontent.com/Yogesh0903/Basics-of-Python_SPC/main/Assignments/Assignment%203/Matrix.ipynb'\n",
        "r = requests.get(url)\n",
        "with open('Matrix.ipynb', 'w') as f:\n",
        "    f.write(r.text)\n",
        "import Matrix"
      ],
      "metadata": {
        "id": "Um-6eIyNNFL3"
      },
      "execution_count": 53,
      "outputs": []
    },
    {
      "cell_type": "code",
      "source": [
        "A = [[1,2,3],\n",
        "    [1,6,7],\n",
        "    [5,6,7]]\n",
        "\n",
        "B = [[1,4,9],\n",
        "    [4,9,6],\n",
        "    [8,9,4]]\n",
        "Matrix.Matrix(A,B)"
      ],
      "metadata": {
        "colab": {
          "base_uri": "https://localhost:8080/"
        },
        "id": "KDmfvf7DNMPG",
        "outputId": "dc752de8-970d-46c6-cd9c-a1bd852ebc42"
      },
      "execution_count": 55,
      "outputs": [
        {
          "output_type": "stream",
          "name": "stdout",
          "text": [
            "The Addition of Two Matrix is = \n",
            "[2, 6, 12]\n",
            "[5, 15, 13]\n",
            "[13, 15, 11]\n",
            "The Subtraction of Two Matrix is = \n",
            "[2, 6, 12]\n",
            "[5, 15, 13]\n",
            "[13, 15, 11]\n",
            "The Multiplication of Two Matrix is = \n",
            "[33, 49, 33]\n",
            "[81, 121, 73]\n",
            "[85, 137, 109]\n"
          ]
        }
      ]
    },
    {
      "cell_type": "markdown",
      "source": [
        "\n",
        "```\n",
        "Q48] Write a module to find mean, mode, range of n observations. Find these two values for the\n",
        "given data: 7, 5, 5, 9, 1, 9, 4, 8, 6, 5.\n",
        "\n",
        "```\n",
        "\n"
      ],
      "metadata": {
        "id": "ShggDafo-Cxa"
      }
    },
    {
      "cell_type": "code",
      "source": [
        "url = 'https://raw.githubusercontent.com/Yogesh0903/Basics-of-Python_SPC/main/Assignments/Assignment%203/MMR.ipynb'\n",
        "r = requests.get(url)\n",
        "with open('MMR.ipynb', 'w') as f:\n",
        "    f.write(r.text)\n",
        "import MMR"
      ],
      "metadata": {
        "colab": {
          "base_uri": "https://localhost:8080/"
        },
        "id": "4cp254WQO5QU",
        "outputId": "3c5197ea-ba10-4955-c2a6-cada8dede30b"
      },
      "execution_count": 56,
      "outputs": [
        {
          "output_type": "stream",
          "name": "stdout",
          "text": [
            "importing Jupyter notebook from MMR.ipynb\n"
          ]
        }
      ]
    },
    {
      "cell_type": "code",
      "source": [
        "Data = 7, 5, 5, 9, 1, 9, 4, 8, 6, 5\n",
        "MMR.MMR(Data)"
      ],
      "metadata": {
        "id": "2N5lYcIjP7Q8",
        "outputId": "aa198ba5-afff-4774-e028-229dede4bc4d",
        "colab": {
          "base_uri": "https://localhost:8080/"
        }
      },
      "execution_count": 57,
      "outputs": [
        {
          "output_type": "stream",
          "name": "stdout",
          "text": [
            "Mean of the Given Data is =  5.9\n",
            "Mode of the Given Data is =  [5]\n",
            "Range of the Given Data is =  8\n"
          ]
        }
      ]
    }
  ]
}