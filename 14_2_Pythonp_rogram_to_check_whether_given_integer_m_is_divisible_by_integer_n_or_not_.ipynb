{
  "cells": [
    {
      "cell_type": "markdown",
      "metadata": {
        "id": "view-in-github",
        "colab_type": "text"
      },
      "source": [
        "<a href=\"https://colab.research.google.com/github/Yogesh0903/Basics-of-Python_SPC/blob/main/14_2_Pythonp_rogram_to_check_whether_given_integer_m_is_divisible_by_integer_n_or_not_.ipynb\" target=\"_parent\"><img src=\"https://colab.research.google.com/assets/colab-badge.svg\" alt=\"Open In Colab\"/></a>"
      ]
    },
    {
      "cell_type": "code",
      "execution_count": null,
      "id": "dcbc0b56",
      "metadata": {
        "id": "dcbc0b56"
      },
      "outputs": [],
      "source": [
        "Write a program to check whether given integer m is divisible by integer n or not.\n",
        "\n",
        "Run the program for m=5, n=2 and m=6,n=3.\n"
      ]
    },
    {
      "cell_type": "code",
      "execution_count": null,
      "id": "fec4a98f",
      "metadata": {
        "id": "fec4a98f"
      },
      "outputs": [],
      "source": [
        "Formula\n",
        "#m % n == 0 >> Then m is divisible by n Otherwise no\n"
      ]
    },
    {
      "cell_type": "code",
      "execution_count": null,
      "id": "33c13648",
      "metadata": {
        "id": "33c13648",
        "outputId": "680cabb0-60ea-43ab-9eb3-8ba1eac7495b"
      },
      "outputs": [
        {
          "name": "stdout",
          "output_type": "stream",
          "text": [
            "m is divisible by n\n"
          ]
        }
      ],
      "source": [
        "m= 6\n",
        "#m=5\n",
        "n= 3\n",
        "#n=2\n",
        "if m%n==0:\n",
        "    print(\"m is divisible by n\")\n",
        "else :\n",
        "    print(\"m is not divisible by n\")\n",
        "    \n",
        "#6 % 3 == 0"
      ]
    },
    {
      "cell_type": "code",
      "execution_count": null,
      "id": "66d2d2e8",
      "metadata": {
        "id": "66d2d2e8"
      },
      "outputs": [],
      "source": [
        ""
      ]
    }
  ],
  "metadata": {
    "kernelspec": {
      "display_name": "Python 3 (ipykernel)",
      "language": "python",
      "name": "python3"
    },
    "language_info": {
      "codemirror_mode": {
        "name": "ipython",
        "version": 3
      },
      "file_extension": ".py",
      "mimetype": "text/x-python",
      "name": "python",
      "nbconvert_exporter": "python",
      "pygments_lexer": "ipython3",
      "version": "3.8.8"
    },
    "colab": {
      "name": "14.2. Pythonp rogram to check whether given integer m is divisible by integer n or not. .ipynb",
      "provenance": [],
      "include_colab_link": true
    }
  },
  "nbformat": 4,
  "nbformat_minor": 5
}