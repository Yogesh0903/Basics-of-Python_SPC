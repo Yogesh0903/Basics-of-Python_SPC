{
  "cells": [
    {
      "cell_type": "markdown",
      "metadata": {
        "id": "view-in-github",
        "colab_type": "text"
      },
      "source": [
        "<a href=\"https://colab.research.google.com/github/Yogesh0903/Basics-of-Python_SPC/blob/main/Yogesh_Kumar_Lalwani_9158_Assignment_2.ipynb\" target=\"_parent\"><img src=\"https://colab.research.google.com/assets/colab-badge.svg\" alt=\"Open In Colab\"/></a>"
      ]
    },
    {
      "cell_type": "markdown",
      "id": "2132d19e",
      "metadata": {
        "id": "2132d19e"
      },
      "source": [
        "Q1.Write a Python User Define Function to reverse a string\n"
      ]
    },
    {
      "cell_type": "code",
      "execution_count": 31,
      "id": "d5e5c429",
      "metadata": {
        "colab": {
          "base_uri": "https://localhost:8080/"
        },
        "id": "d5e5c429",
        "outputId": "eb5afcc0-b35a-44f3-ee10-2163c8aacf6e"
      },
      "outputs": [
        {
          "output_type": "stream",
          "name": "stdout",
          "text": [
            "Enter the String to be Reversed Yogesh\n",
            "The Reversed String is hsegoY\n"
          ]
        }
      ],
      "source": [
        "##Solution Q1. \n",
        "def rev(Inp):\n",
        " ReverseInp=Inp[::-1] # Slicing\n",
        " print (\"The Reversed String is\",ReverseInp) # Print the reversed string\n",
        "\n",
        "Stri=input(\"Enter the String to be Reversed \") # Input From the User\n",
        "rev(Stri) #Called the function with user input as parameter"
      ]
    },
    {
      "cell_type": "markdown",
      "id": "de3f586a",
      "metadata": {
        "id": "de3f586a"
      },
      "source": [
        "Q1.\n",
        "Hint :If I Pass the Parameter >> \"python\" My output will be >> \"nohtyp\""
      ]
    },
    {
      "cell_type": "markdown",
      "id": "4fc2df6e",
      "metadata": {
        "id": "4fc2df6e"
      },
      "source": [
        "Q2. Write a Python min_max function which will return Min, Max of 4 inputs from the user."
      ]
    },
    {
      "cell_type": "code",
      "execution_count": 32,
      "id": "f16c020b",
      "metadata": {
        "colab": {
          "base_uri": "https://localhost:8080/"
        },
        "id": "f16c020b",
        "outputId": "5f41506b-5f1f-4c26-ac00-f3e099429981"
      },
      "outputs": [
        {
          "output_type": "stream",
          "name": "stdout",
          "text": [
            "Enter four values to find minimum and maximum value separated by space: 1 2 3 4\n",
            "The Maxmimum value from the input vlaues is:  4\n",
            "The Minimum value from the input vlaues is:  1\n"
          ]
        }
      ],
      "source": [
        "##Solution Q2. \n",
        "def min_max(A,B,C,D):\n",
        "  print(\"The Maxmimum value from the input vlaues is: \", max(A,B,C,D))\n",
        "  print(\"The Minimum value from the input vlaues is: \", min(A,B,C,D))\n",
        "  \n",
        "p, q, r, s = input(\"Enter four values to find minimum and maximum value separated by space: \").split()\n",
        "# Alternative  \n",
        "# p = input(\"Enter the first value: \")\n",
        "# q = input(\"Enter the second value: \")\n",
        "# r = input(\"Enter the third value: \")\n",
        "# s = input(\"Enter the fourth value: \")\n",
        "\n",
        "min_max(p,q,r,s)"
      ]
    },
    {
      "cell_type": "markdown",
      "id": "f3e92aa7",
      "metadata": {
        "id": "f3e92aa7"
      },
      "source": [
        "Q3. Write a Python function to sum 4 inputs from the user."
      ]
    },
    {
      "cell_type": "code",
      "execution_count": 33,
      "id": "34ad3d62",
      "metadata": {
        "colab": {
          "base_uri": "https://localhost:8080/"
        },
        "id": "34ad3d62",
        "outputId": "c834f9a0-0e55-4622-b9e5-e1136520d602"
      },
      "outputs": [
        {
          "output_type": "stream",
          "name": "stdout",
          "text": [
            "Enter four values to find sum of them separated by space: 1 2 3 4\n",
            "The Sum of the input vlaues is:  10.0\n"
          ]
        }
      ],
      "source": [
        "##Solution Q3. \n",
        "def Sum4(A,B,C,D):\n",
        "  sum = A+B+C+D\n",
        "  print(\"The Sum of the input vlaues is: \", sum)\n",
        "\n",
        "p, q, r, s = list(map(float, input(\"Enter four values to find sum of them separated by space: \").split()))\n",
        "# Alternative  \n",
        "# p = float(input(\"Enter the first value: \"))\n",
        "# q = float(input(\"Enter the second value: \"))\n",
        "# r = float(input(\"Enter the third value: \"))\n",
        "# s = float(input(\"Enter the fourth value: \"))\n",
        "\n",
        "Sum4 (p,q,r,s)"
      ]
    },
    {
      "cell_type": "markdown",
      "id": "213d9d56",
      "metadata": {
        "id": "213d9d56"
      },
      "source": [
        "#Q4. Find out the Command which will return you number of local variables from the user define function."
      ]
    },
    {
      "cell_type": "code",
      "execution_count": 34,
      "id": "e5ba129a",
      "metadata": {
        "colab": {
          "base_uri": "https://localhost:8080/"
        },
        "id": "e5ba129a",
        "outputId": "89aaffdd-3fb6-4e49-8603-fa6f0d0639e4"
      },
      "outputs": [
        {
          "output_type": "stream",
          "name": "stdout",
          "text": [
            "The Number of Local Variables in the given User Defined Function is:  5\n"
          ]
        }
      ],
      "source": [
        "##Solution Q4. \n",
        "# Suppose here our user defined function is Sum4\n",
        "# Then to find the number of local variables we have to use the following syntax\n",
        "## User_Defined_Function_Name.__code__.co_nlocals\n",
        "print(\"The Number of Local Variables in the given User Defined Function is: \" ,Sum4.__code__.co_nlocals)"
      ]
    },
    {
      "cell_type": "markdown",
      "id": "f9f56519",
      "metadata": {
        "id": "f9f56519"
      },
      "source": [
        "Q5.Write Python Function to get even number from the list. \n",
        "List len must be equal to 8."
      ]
    },
    {
      "cell_type": "code",
      "execution_count": 35,
      "id": "d09e9003",
      "metadata": {
        "colab": {
          "base_uri": "https://localhost:8080/"
        },
        "id": "d09e9003",
        "outputId": "b0a3c42e-0c61-40e3-a004-f414bd722f58"
      },
      "outputs": [
        {
          "output_type": "stream",
          "name": "stdout",
          "text": [
            "Enter a list of 8 elements separated by space: 1 2 3 4 5 6 7 8\n",
            "The Even Numbers are : \n",
            "2.0 4.0 6.0 8.0 "
          ]
        }
      ],
      "source": [
        "##Solution Q5. \n",
        "list1 = list(map(float, input(\"Enter a list of 8 elements separated by space: \").split()))\n",
        "L = len(list1)\n",
        "\n",
        "if (L==8):\n",
        "    print(\"The Even Numbers are : \")\n",
        "    for num in list1:\n",
        "  \n",
        "        if (num % 2 == 0):\n",
        "            print(num, end=\" \")\n",
        "else: \n",
        "    print(\"There are less than 8 elements in the list\")\n"
      ]
    }
  ],
  "metadata": {
    "kernelspec": {
      "display_name": "Python 3 (ipykernel)",
      "language": "python",
      "name": "python3"
    },
    "language_info": {
      "codemirror_mode": {
        "name": "ipython",
        "version": 3
      },
      "file_extension": ".py",
      "mimetype": "text/x-python",
      "name": "python",
      "nbconvert_exporter": "python",
      "pygments_lexer": "ipython3",
      "version": "3.8.8"
    },
    "colab": {
      "name": "Yogesh_Kumar_Lalwani_9158_Assignment_2.ipynb",
      "provenance": [],
      "collapsed_sections": [],
      "include_colab_link": true
    }
  },
  "nbformat": 4,
  "nbformat_minor": 5
}
