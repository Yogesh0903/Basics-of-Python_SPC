{
 "cells": [
  {
   "cell_type": "code",
   "execution_count": 1,
   "metadata": {
    "id": "AQljpCDjRh9M"
   },
   "outputs": [],
   "source": [
    "Name=\"Yogesh Kumar Lalwani\"\n",
    "Roll_No=9158"
   ]
  },
  {
   "cell_type": "markdown",
   "metadata": {
    "id": "zddStRefVezy"
   },
   "source": [
    "Lists"
   ]
  },
  {
   "cell_type": "code",
   "execution_count": 2,
   "metadata": {
    "colab": {
     "base_uri": "https://localhost:8080/"
    },
    "id": "UPa8vWBHT7Mt",
    "outputId": "7743f8ce-ac0f-4905-db64-679e87ab6056"
   },
   "outputs": [
    {
     "name": "stdout",
     "output_type": "stream",
     "text": [
      "['Yogesh Kumar', 'Lalwani', 21, 'Student']\n",
      "['SP College', 'Autonomous', 'Sadashiv Peth', 411030]\n"
     ]
    }
   ],
   "source": [
    "A=[\"Yogesh Kumar\",\"Lalwani\",21,\"Student\",]\n",
    "B=[\"SP College\",\"Autonomous\",\"Sadashiv Peth\",411030]\n",
    "print(A)\n",
    "print(B)"
   ]
  },
  {
   "cell_type": "markdown",
   "metadata": {
    "id": "A33kXrv8VnVw"
   },
   "source": [
    "Tupples"
   ]
  },
  {
   "cell_type": "code",
   "execution_count": 3,
   "metadata": {
    "colab": {
     "base_uri": "https://localhost:8080/"
    },
    "id": "CLWvdwTyVo6k",
    "outputId": "caad7d2a-4b5d-4ad1-e1ce-2a9257528ca3"
   },
   "outputs": [
    {
     "name": "stdout",
     "output_type": "stream",
     "text": [
      "('Yogesh Kumar', 'Lalwani', 21, 'Student')\n",
      "('SP College', 'Autonomous', 'Sadashiv Peth', 411030)\n"
     ]
    }
   ],
   "source": [
    "a=(\"Yogesh Kumar\",\"Lalwani\",21,\"Student\")\n",
    "b=(\"SP College\",\"Autonomous\",\"Sadashiv Peth\",411030)\n",
    "print(a)\n",
    "print(b)"
   ]
  },
  {
   "cell_type": "code",
   "execution_count": 4,
   "metadata": {
    "colab": {
     "base_uri": "https://localhost:8080/"
    },
    "id": "P0PC7eFiW1xa",
    "outputId": "034efac2-5889-4102-dac0-3b37f8882635"
   },
   "outputs": [
    {
     "name": "stdout",
     "output_type": "stream",
     "text": [
      "['Yogesh Kumar', 'Lalwani']\n",
      "['Sadashiv Peth']\n",
      "21\n",
      "411030\n"
     ]
    }
   ],
   "source": [
    "print(A[0:2])\n",
    "print(B[2:3])\n",
    "print(a[2])\n",
    "print(b[3])"
   ]
  },
  {
   "cell_type": "markdown",
   "metadata": {
    "id": "Vq1FbFa4V7GU"
   },
   "source": [
    "Class"
   ]
  },
  {
   "cell_type": "code",
   "execution_count": 5,
   "metadata": {
    "colab": {
     "base_uri": "https://localhost:8080/"
    },
    "id": "K9Zz9geHWSYX",
    "outputId": "417138ec-61ab-493d-ec81-01e2315c5fb3"
   },
   "outputs": [
    {
     "name": "stdout",
     "output_type": "stream",
     "text": [
      "<class 'list'>\n",
      "<class 'list'>\n",
      "<class 'tuple'>\n",
      "<class 'tuple'>\n"
     ]
    }
   ],
   "source": [
    "print(type(A))\n",
    "print(type(B))\n",
    "print(type(a))\n",
    "print(type(b))"
   ]
  },
  {
   "cell_type": "markdown",
   "metadata": {
    "id": "HyzEj8AlWoo8"
   },
   "source": [
    "Copy"
   ]
  },
  {
   "cell_type": "code",
   "execution_count": 6,
   "metadata": {
    "colab": {
     "base_uri": "https://localhost:8080/"
    },
    "id": "I5ALFx4NfqHY",
    "outputId": "945bb934-339b-4b81-bded-156c237a2bd0"
   },
   "outputs": [
    {
     "name": "stdout",
     "output_type": "stream",
     "text": [
      "['Yogesh Kumar', 'Lalwani', 21, 'Student']\n",
      "['Yogesh Kumar', 'Lalwani', 21, 'Student']\n"
     ]
    }
   ],
   "source": [
    "print(A)\n",
    "A1=A.copy()\n",
    "print(A1)\n",
    "\n",
    "### Tupples cannot be copied"
   ]
  },
  {
   "cell_type": "markdown",
   "metadata": {
    "id": "H2Igh-Dnhi3e"
   },
   "source": [
    "Append"
   ]
  },
  {
   "cell_type": "code",
   "execution_count": 7,
   "metadata": {
    "colab": {
     "base_uri": "https://localhost:8080/"
    },
    "id": "KJV-dQhOhnWk",
    "outputId": "dc3b6908-f028-40d3-8863-3a919e940121"
   },
   "outputs": [
    {
     "name": "stdout",
     "output_type": "stream",
     "text": [
      "['SP College', 'Autonomous', 'Sadashiv Peth', 411030]\n",
      "['SP College', 'Autonomous', 'Sadashiv Peth', 411030, 'Autonomous']\n"
     ]
    }
   ],
   "source": [
    "print(B)\n",
    "B.append(\"Autonomous\")\n",
    "print(B)\n",
    "\n",
    "### TUpples cannot be modified"
   ]
  },
  {
   "cell_type": "markdown",
   "metadata": {
    "id": "yzC-dWA8j2_j"
   },
   "source": [
    "Count"
   ]
  },
  {
   "cell_type": "code",
   "execution_count": 8,
   "metadata": {
    "colab": {
     "base_uri": "https://localhost:8080/"
    },
    "id": "gX7asZPvj4VK",
    "outputId": "b26fdecf-7722-4952-fe25-895257f91c93"
   },
   "outputs": [
    {
     "name": "stdout",
     "output_type": "stream",
     "text": [
      "1\n",
      "2\n"
     ]
    }
   ],
   "source": [
    "print(A.count(\"Yogesh Kumar\"))\n",
    "A.append(\"Yogesh Kumar\")\n",
    "print(A.count(\"Yogesh Kumar\"))"
   ]
  },
  {
   "cell_type": "markdown",
   "metadata": {
    "id": "uZcdiR0plxbk"
   },
   "source": [
    "Delete list"
   ]
  },
  {
   "cell_type": "code",
   "execution_count": 9,
   "metadata": {
    "colab": {
     "base_uri": "https://localhost:8080/",
     "height": 217
    },
    "id": "UpHOO4Isly_O",
    "outputId": "12397d71-45ec-4cd0-9e8b-a8fbe135e080"
   },
   "outputs": [
    {
     "name": "stdout",
     "output_type": "stream",
     "text": [
      "['Yogesh Kumar', 'Lalwani', 21, 'Student']\n"
     ]
    },
    {
     "ename": "NameError",
     "evalue": "name 'A1' is not defined",
     "output_type": "error",
     "traceback": [
      "\u001b[1;31m---------------------------------------------------------------------------\u001b[0m",
      "\u001b[1;31mNameError\u001b[0m                                 Traceback (most recent call last)",
      "\u001b[1;32mC:\\Users\\Public\\Documents\\Wondershare\\CreatorTemp/ipykernel_14084/4180752056.py\u001b[0m in \u001b[0;36m<module>\u001b[1;34m\u001b[0m\n\u001b[0;32m      1\u001b[0m \u001b[0mprint\u001b[0m\u001b[1;33m(\u001b[0m\u001b[0mA1\u001b[0m\u001b[1;33m)\u001b[0m\u001b[1;33m\u001b[0m\u001b[1;33m\u001b[0m\u001b[0m\n\u001b[0;32m      2\u001b[0m \u001b[1;32mdel\u001b[0m \u001b[0mA1\u001b[0m\u001b[1;33m\u001b[0m\u001b[1;33m\u001b[0m\u001b[0m\n\u001b[1;32m----> 3\u001b[1;33m \u001b[0mprint\u001b[0m\u001b[1;33m(\u001b[0m\u001b[0mA1\u001b[0m\u001b[1;33m)\u001b[0m\u001b[1;33m\u001b[0m\u001b[1;33m\u001b[0m\u001b[0m\n\u001b[0m\u001b[0;32m      4\u001b[0m \u001b[1;33m\u001b[0m\u001b[0m\n\u001b[0;32m      5\u001b[0m \u001b[1;31m### List A1 is deleted therefore it is showing error\u001b[0m\u001b[1;33m\u001b[0m\u001b[1;33m\u001b[0m\u001b[0m\n",
      "\u001b[1;31mNameError\u001b[0m: name 'A1' is not defined"
     ]
    }
   ],
   "source": [
    "print(A1)\n",
    "del A1\n",
    "print(A1)\n",
    "\n",
    "### List A1 is deleted therefore it is showing error"
   ]
  },
  {
   "cell_type": "markdown",
   "metadata": {
    "id": "htdmmPEFmSZ2"
   },
   "source": [
    "Extend"
   ]
  },
  {
   "cell_type": "code",
   "execution_count": 10,
   "metadata": {
    "colab": {
     "base_uri": "https://localhost:8080/"
    },
    "id": "FiPc5sWpmTaG",
    "outputId": "c4413249-a291-4511-acd0-6012ddc0cf81"
   },
   "outputs": [
    {
     "name": "stdout",
     "output_type": "stream",
     "text": [
      "['Yogesh Kumar', 'Lalwani', 21, 'Student', 'Yogesh Kumar']\n",
      "['SP College', 'Autonomous', 'Sadashiv Peth', 411030, 'Autonomous']\n",
      "['Yogesh Kumar', 'Lalwani', 21, 'Student', 'Yogesh Kumar', 'SP College', 'Autonomous', 'Sadashiv Peth', 411030, 'Autonomous']\n"
     ]
    }
   ],
   "source": [
    "print(A)\n",
    "print(B)\n",
    "A.extend(B)\n",
    "print(A)"
   ]
  },
  {
   "cell_type": "markdown",
   "metadata": {
    "id": "3SZNyOkSmz_4"
   },
   "source": [
    "Index"
   ]
  },
  {
   "cell_type": "code",
   "execution_count": 11,
   "metadata": {
    "colab": {
     "base_uri": "https://localhost:8080/"
    },
    "id": "lh7Fcztcm5zQ",
    "outputId": "241d9bbf-c1b8-403b-a412-882c53594135"
   },
   "outputs": [
    {
     "name": "stdout",
     "output_type": "stream",
     "text": [
      "2\n",
      "6\n"
     ]
    }
   ],
   "source": [
    "print(B.index(\"Sadashiv Peth\"))\n",
    "print(A.index(\"Autonomous\"))\n",
    "\n",
    "### If the elements are repeated in the list then index() will provide the index no. of first element"
   ]
  },
  {
   "cell_type": "markdown",
   "metadata": {
    "id": "i18HeCFVna_F"
   },
   "source": [
    "Sort"
   ]
  },
  {
   "cell_type": "code",
   "execution_count": 12,
   "metadata": {
    "colab": {
     "base_uri": "https://localhost:8080/"
    },
    "id": "53GvfXQgnb07",
    "outputId": "456c3529-03a5-4155-bde3-0fe67aeac9fc"
   },
   "outputs": [
    {
     "name": "stdout",
     "output_type": "stream",
     "text": [
      "['D', 'A', 'C', 'B']\n",
      "[4, 2, 1, 3]\n",
      "['A', 'B', 'C', 'D']\n",
      "[1, 2, 3, 4]\n"
     ]
    }
   ],
   "source": [
    "K=[\"D\",\"A\",\"C\",\"B\"]\n",
    "print(K)\n",
    "K1=[4,2,1,3]\n",
    "print(K1)\n",
    "K.sort()\n",
    "K1.sort()\n",
    "print(K)\n",
    "print(K1)\n",
    "\n",
    "### For sorting all the elements in the list should be of same type"
   ]
  },
  {
   "cell_type": "markdown",
   "metadata": {
    "id": "gcL3B3ELoci8"
   },
   "source": [
    "Access"
   ]
  },
  {
   "cell_type": "code",
   "execution_count": 13,
   "metadata": {
    "colab": {
     "base_uri": "https://localhost:8080/"
    },
    "id": "Ej2MOc8Nofdk",
    "outputId": "354c57d6-f46c-49a2-98a2-012a26a319de"
   },
   "outputs": [
    {
     "name": "stdout",
     "output_type": "stream",
     "text": [
      "['A', 'B']\n",
      "[1, 2, 3, 4]\n"
     ]
    }
   ],
   "source": [
    "print(K[:2])\n",
    "print(K1[0:])"
   ]
  },
  {
   "cell_type": "markdown",
   "metadata": {
    "id": "CsCUgmvxo_KC"
   },
   "source": [
    "Nested List"
   ]
  },
  {
   "cell_type": "code",
   "execution_count": 14,
   "metadata": {
    "colab": {
     "base_uri": "https://localhost:8080/"
    },
    "id": "M4UQ5D3VpApW",
    "outputId": "aac5b11d-bb2e-41d4-948a-92f0548bfc34"
   },
   "outputs": [
    {
     "name": "stdout",
     "output_type": "stream",
     "text": [
      "['Yogesh Kumar', 'SP COllege', [21, 411030]]\n",
      "[21, 411030]\n"
     ]
    }
   ],
   "source": [
    "ABlist=[\"Yogesh Kumar\",\"SP COllege\",[21,411030]]\n",
    "print(ABlist)\n",
    "print(ABlist[2])"
   ]
  }
 ],
 "metadata": {
  "colab": {
   "collapsed_sections": [],
   "name": "Yash_Kulkarni_9134_Assignment",
   "provenance": []
  },
  "kernelspec": {
   "display_name": "Python 3 (ipykernel)",
   "language": "python",
   "name": "python3"
  },
  "language_info": {
   "codemirror_mode": {
    "name": "ipython",
    "version": 3
   },
   "file_extension": ".py",
   "mimetype": "text/x-python",
   "name": "python",
   "nbconvert_exporter": "python",
   "pygments_lexer": "ipython3",
   "version": "3.9.7"
  }
 },
 "nbformat": 4,
 "nbformat_minor": 1
}
