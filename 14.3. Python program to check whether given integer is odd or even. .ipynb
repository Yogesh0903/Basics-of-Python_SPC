{
  "cells": [
    {
      "cell_type": "markdown",
      "metadata": {
        "id": "view-in-github",
        "colab_type": "text"
      },
      "source": [
        "<a href=\"https://colab.research.google.com/github/Yogesh0903/Basics-of-Python_SPC/blob/main/14.3.%20Python%20program%20to%20check%20whether%20given%20integer%20is%20odd%20or%20even.%20.ipynb\" target=\"_parent\"><img src=\"https://colab.research.google.com/assets/colab-badge.svg\" alt=\"Open In Colab\"/></a>"
      ]
    },
    {
      "cell_type": "markdown",
      "id": "a4a8c895",
      "metadata": {
        "id": "a4a8c895"
      },
      "source": [
        "Write a program to check whether given integer is odd or even. \n",
        "\n",
        "Run the program for 20 and 11."
      ]
    },
    {
      "cell_type": "markdown",
      "id": "7e05a9da",
      "metadata": {
        "id": "7e05a9da"
      },
      "source": [
        "Formula\n",
        "\n",
        "#Even Number: A number Which is completely divisible by 2 Hence remainders is 0\n",
        "\n",
        "#Odd Number: A number which is not divisible by 2 Hence remainders is 1\n"
      ]
    },
    {
      "cell_type": "code",
      "execution_count": null,
      "id": "377f9709",
      "metadata": {
        "id": "377f9709",
        "outputId": "9d21bb46-bc31-49f0-8ca3-7b71c110c7c3"
      },
      "outputs": [
        {
          "data": {
            "text/plain": [
              "'number is even'"
            ]
          },
          "execution_count": 16,
          "metadata": {},
          "output_type": "execute_result"
        }
      ],
      "source": [
        "# defining the function having\n",
        "# the one parameter as input\n",
        "def evenodd(n):\n",
        "     \n",
        "    #if remainder is 0 then num is even\n",
        "    if(n % 2 == 0):\n",
        "        return \"number is even\"\n",
        "    #if remainder is 1 then num is odd\n",
        "    elif(n %2 != 0):\n",
        "        return \"number is odd\"\n",
        "    else:\n",
        "        return evenOdd(n)\n",
        "    \n",
        "#Call the Function and pass any number iside the function\n",
        "evenodd(28)"
      ]
    },
    {
      "cell_type": "code",
      "execution_count": null,
      "id": "77bfb27d",
      "metadata": {
        "id": "77bfb27d",
        "outputId": "b320cd74-4ce5-49ed-b210-c75fcd2b4c4f"
      },
      "outputs": [
        {
          "name": "stdout",
          "output_type": "stream",
          "text": [
            "Number is even\n"
          ]
        }
      ],
      "source": [
        "#ALternate method\n",
        "a = 20 # a is any random variable. Pass any value to a\n",
        "if a%2==0:\n",
        "    print(\"Number is even\")\n",
        "else:\n",
        "    print(\"Number is odd\")"
      ]
    },
    {
      "cell_type": "code",
      "execution_count": null,
      "id": "60a68807",
      "metadata": {
        "id": "60a68807"
      },
      "outputs": [],
      "source": [
        ""
      ]
    }
  ],
  "metadata": {
    "kernelspec": {
      "display_name": "Python 3 (ipykernel)",
      "language": "python",
      "name": "python3"
    },
    "language_info": {
      "codemirror_mode": {
        "name": "ipython",
        "version": 3
      },
      "file_extension": ".py",
      "mimetype": "text/x-python",
      "name": "python",
      "nbconvert_exporter": "python",
      "pygments_lexer": "ipython3",
      "version": "3.8.8"
    },
    "colab": {
      "name": "14.3. Python program to check whether given integer is odd or even. .ipynb",
      "provenance": [],
      "include_colab_link": true
    }
  },
  "nbformat": 4,
  "nbformat_minor": 5
}