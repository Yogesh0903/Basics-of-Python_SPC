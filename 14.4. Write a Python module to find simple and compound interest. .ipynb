{
  "cells": [
    {
      "cell_type": "markdown",
      "metadata": {
        "id": "view-in-github",
        "colab_type": "text"
      },
      "source": [
        "<a href=\"https://colab.research.google.com/github/Yogesh0903/Basics-of-Python_SPC/blob/main/14.4.%20Write%20a%20Python%20module%20to%20find%20simple%20and%20compound%20interest.%20.ipynb\" target=\"_parent\"><img src=\"https://colab.research.google.com/assets/colab-badge.svg\" alt=\"Open In Colab\"/></a>"
      ]
    },
    {
      "cell_type": "code",
      "execution_count": null,
      "id": "a3df54d3",
      "metadata": {
        "id": "a3df54d3"
      },
      "outputs": [],
      "source": [
        "Write a module to find simple and compound interest. \n",
        "Calculate simple and compound interest for principal amount=10000, interest rate=10% and time=5 years.\n"
      ]
    },
    {
      "cell_type": "markdown",
      "id": "11f6ee77",
      "metadata": {
        "id": "11f6ee77"
      },
      "source": [
        "Formula\n",
        "\n",
        "#Simple Interest = (P x T x R)/100 Where, P is the principle amount T is the time and R is the rate of interest"
      ]
    },
    {
      "cell_type": "code",
      "execution_count": null,
      "id": "c40e457d",
      "metadata": {
        "id": "c40e457d",
        "outputId": "ad18ae0c-c92f-44fe-f845-b51e984154e5"
      },
      "outputs": [
        {
          "name": "stdout",
          "output_type": "stream",
          "text": [
            "The principal is 1000\n",
            "The time period is 5\n",
            "The rate of interest is 10\n",
            "The Simple Interest is 500.0\n"
          ]
        },
        {
          "data": {
            "text/plain": [
              "500.0"
            ]
          },
          "execution_count": 3,
          "metadata": {},
          "output_type": "execute_result"
        }
      ],
      "source": [
        "#By User define Function\n",
        "\n",
        "\n",
        "\n",
        "def simple_interest(p,t,r):\n",
        "    \"\"\"This user define fucntion will return the simple interest\"\"\"\n",
        "    print('The principal is', p)\n",
        "    print('The time period is', t)\n",
        "    print('The rate of interest is',r)\n",
        "    si = (p * t * r)/100\n",
        "\n",
        "    print('The Simple Interest is', si)\n",
        "    return si\n",
        "\n",
        "# Driver code\n",
        "simple_interest(1000, 5, 10)\n"
      ]
    },
    {
      "cell_type": "code",
      "execution_count": null,
      "id": "2f4d4489",
      "metadata": {
        "id": "2f4d4489",
        "outputId": "06e30ded-5990-4c2a-e987-5e13ddd84b9a"
      },
      "outputs": [
        {
          "name": "stdout",
          "output_type": "stream",
          "text": [
            "Enter the Principal amount: 1\n",
            "Enter the time: 2\n",
            "Enter the rate of interest: 3\n",
            "The Simple Interest is>> 0.06\n"
          ]
        }
      ],
      "source": [
        "#Alternate Method By user input\n",
        "p = int(input(\"Enter the Principal amount: \"))\n",
        "t = int(input(\"Enter the time: \"))\n",
        "r = int(input(\"Enter the rate of interest: \"))\n",
        "si = (p*t*r)/100\n",
        "print('The Simple Interest is>>',si)"
      ]
    }
  ],
  "metadata": {
    "kernelspec": {
      "display_name": "Python 3 (ipykernel)",
      "language": "python",
      "name": "python3"
    },
    "language_info": {
      "codemirror_mode": {
        "name": "ipython",
        "version": 3
      },
      "file_extension": ".py",
      "mimetype": "text/x-python",
      "name": "python",
      "nbconvert_exporter": "python",
      "pygments_lexer": "ipython3",
      "version": "3.8.8"
    },
    "colab": {
      "name": "14.4. Write a Python module to find simple and compound interest. .ipynb",
      "provenance": [],
      "include_colab_link": true
    }
  },
  "nbformat": 4,
  "nbformat_minor": 5
}