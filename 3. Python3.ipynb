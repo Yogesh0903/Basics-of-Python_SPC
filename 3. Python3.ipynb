{
 "cells": [
  {
   "cell_type": "code",
   "execution_count": 1,
   "metadata": {
    "id": "ks4A_3OFdo2-"
   },
   "outputs": [],
   "source": [
    "Name =\"Yogesh Kumar Lalwani\"\n",
    "Roll_No =\"9158\""
   ]
  },
  {
   "cell_type": "markdown",
   "metadata": {
    "id": "VerA02K9earI"
   },
   "source": [
    "Collections of data types\n",
    "- List []\n",
    "- Tupples ()\n",
    "- Sets {}\n"
   ]
  },
  {
   "cell_type": "markdown",
   "metadata": {},
   "source": [
    "1. List []"
   ]
  },
  {
   "cell_type": "code",
   "execution_count": 2,
   "metadata": {
    "colab": {
     "base_uri": "https://localhost:8080/"
    },
    "id": "QJl8mWRyeptd",
    "outputId": "b3ce166b-cb37-43bb-fbd2-cb9d479f1928"
   },
   "outputs": [
    {
     "name": "stdout",
     "output_type": "stream",
     "text": [
      "<class 'str'>\n",
      "Yogesh\n",
      "<class 'list'>\n",
      "['Yogesh', 'Gaurav', 'Suyash']\n"
     ]
    }
   ],
   "source": [
    "a=\"Yogesh\"\n",
    "b=\"Lalwani\"\n",
    "c=[\"Yogesh\",\"Gaurav\",\"Suyash\"]\n",
    "print(type(a))\n",
    "print(a)\n",
    "print(type(c))\n",
    "print(c)"
   ]
  },
  {
   "cell_type": "code",
   "execution_count": 3,
   "metadata": {
    "colab": {
     "base_uri": "https://localhost:8080/"
    },
    "id": "AQIrPxzsfgCn",
    "outputId": "431ca91a-16a0-4fec-8a40-6e23e82d34ba"
   },
   "outputs": [
    {
     "name": "stdout",
     "output_type": "stream",
     "text": [
      "variance\n",
      "['median', 'mode', 'variance']\n",
      "['mode', 'variance', 'skewness']\n"
     ]
    }
   ],
   "source": [
    "names=[\"mean\",\"median\",\"mode\",\"variance\",\"skewness\"]\n",
    "print(names[3])\n",
    "print(names[1:4])\n",
    "print(names[2:])"
   ]
  },
  {
   "cell_type": "markdown",
   "metadata": {
    "id": "JEu7IEpxgOHI"
   },
   "source": [
    "Nested List"
   ]
  },
  {
   "cell_type": "code",
   "execution_count": 4,
   "metadata": {
    "colab": {
     "base_uri": "https://localhost:8080/"
    },
    "id": "k_CXV0vZgP0Y",
    "outputId": "3809afb9-e7c5-4eb3-f22a-e918f3fad22e"
   },
   "outputs": [
    {
     "name": "stdout",
     "output_type": "stream",
     "text": [
      "[1, 2, 3, ['a', 'b', [5, 6]]]\n",
      "['a', 'b', [5, 6]]\n"
     ]
    }
   ],
   "source": [
    "mylist=[1,2,3,[\"a\",\"b\",[5,6]]]\n",
    "print(mylist)\n",
    "print(mylist[3])"
   ]
  },
  {
   "cell_type": "markdown",
   "metadata": {
    "id": "X2AtErrKgw9b"
   },
   "source": [
    "append = add an element at the end of the list"
   ]
  },
  {
   "cell_type": "code",
   "execution_count": 5,
   "metadata": {
    "colab": {
     "base_uri": "https://localhost:8080/"
    },
    "id": "feaPTdrMg2Yk",
    "outputId": "ee3f7a4d-6280-4669-f2c6-f9d67a659a41"
   },
   "outputs": [
    {
     "name": "stdout",
     "output_type": "stream",
     "text": [
      "['mean', 'median', 'mode', 'variance', 'skewness']\n",
      "['mean', 'median', 'mode', 'variance', 'skewness', 'kurtosis']\n"
     ]
    }
   ],
   "source": [
    "print(names)\n",
    "names.append(\"kurtosis\")\n",
    "print(names)"
   ]
  },
  {
   "cell_type": "markdown",
   "metadata": {
    "id": "puDdJPH2hKCC"
   },
   "source": [
    "copy = returns a copy of the list"
   ]
  },
  {
   "cell_type": "code",
   "execution_count": 6,
   "metadata": {
    "colab": {
     "base_uri": "https://localhost:8080/"
    },
    "id": "C2ZciJJfhPaq",
    "outputId": "979d608e-6534-477d-91b1-efa7b5ef82e6"
   },
   "outputs": [
    {
     "name": "stdout",
     "output_type": "stream",
     "text": [
      "['mean', 'median', 'mode', 'variance', 'skewness', 'kurtosis']\n",
      "['mean', 'median', 'mode', 'variance', 'skewness', 'kurtosis']\n"
     ]
    }
   ],
   "source": [
    "print(names)\n",
    "name1=names.copy()\n",
    "print(name1)"
   ]
  },
  {
   "cell_type": "markdown",
   "metadata": {
    "id": "NxlRGmH4heJL"
   },
   "source": [
    "count = returns the no. of elements with the specified value"
   ]
  },
  {
   "cell_type": "code",
   "execution_count": 7,
   "metadata": {
    "colab": {
     "base_uri": "https://localhost:8080/"
    },
    "id": "GlVcDaRghjjH",
    "outputId": "db99921f-d512-4faf-a893-07339ddf7221"
   },
   "outputs": [
    {
     "name": "stdout",
     "output_type": "stream",
     "text": [
      "1\n",
      "2\n"
     ]
    }
   ],
   "source": [
    "print(names.count(\"mode\"))\n",
    "x=names.append(\"mode\")\n",
    "print(names.count(\"mode\"))"
   ]
  },
  {
   "cell_type": "markdown",
   "metadata": {
    "id": "f1RoIqERiRra"
   },
   "source": [
    "del = delete list"
   ]
  },
  {
   "cell_type": "code",
   "execution_count": 8,
   "metadata": {
    "colab": {
     "base_uri": "https://localhost:8080/",
     "height": 217
    },
    "id": "utHLN7a7ib-z",
    "outputId": "c9aaf74a-63c5-4a16-d02f-8295b41743b9"
   },
   "outputs": [
    {
     "name": "stdout",
     "output_type": "stream",
     "text": [
      "['mean', 'median', 'mode', 'variance', 'skewness', 'kurtosis']\n"
     ]
    },
    {
     "ename": "NameError",
     "evalue": "name 'name1' is not defined",
     "output_type": "error",
     "traceback": [
      "\u001b[1;31m---------------------------------------------------------------------------\u001b[0m",
      "\u001b[1;31mNameError\u001b[0m                                 Traceback (most recent call last)",
      "\u001b[1;32mC:\\Users\\Public\\Documents\\Wondershare\\CreatorTemp/ipykernel_21328/3185507428.py\u001b[0m in \u001b[0;36m<module>\u001b[1;34m\u001b[0m\n\u001b[0;32m      1\u001b[0m \u001b[0mprint\u001b[0m\u001b[1;33m(\u001b[0m\u001b[0mname1\u001b[0m\u001b[1;33m)\u001b[0m\u001b[1;33m\u001b[0m\u001b[1;33m\u001b[0m\u001b[0m\n\u001b[0;32m      2\u001b[0m \u001b[1;32mdel\u001b[0m \u001b[0mname1\u001b[0m\u001b[1;33m\u001b[0m\u001b[1;33m\u001b[0m\u001b[0m\n\u001b[1;32m----> 3\u001b[1;33m \u001b[0mprint\u001b[0m\u001b[1;33m(\u001b[0m\u001b[0mname1\u001b[0m\u001b[1;33m)\u001b[0m\u001b[1;33m\u001b[0m\u001b[1;33m\u001b[0m\u001b[0m\n\u001b[0m",
      "\u001b[1;31mNameError\u001b[0m: name 'name1' is not defined"
     ]
    }
   ],
   "source": [
    "print(name1)\n",
    "del name1\n",
    "print(name1)\n",
    "\n",
    "## List name1 is deleted that's why it is showing error."
   ]
  },
  {
   "cell_type": "markdown",
   "metadata": {
    "id": "nAAA7FsWjtyy"
   },
   "source": [
    "extend = add the element of a list (or any iterable) to the end of the current list"
   ]
  },
  {
   "cell_type": "code",
   "execution_count": 9,
   "metadata": {
    "colab": {
     "base_uri": "https://localhost:8080/"
    },
    "id": "jj0lAf3FkmJT",
    "outputId": "8f2947e8-25dc-4022-d25a-81015768b321"
   },
   "outputs": [
    {
     "name": "stdout",
     "output_type": "stream",
     "text": [
      "['A', 'B', 'C']\n",
      "['A', 'B', 'C', 'a', 'b', 'c']\n"
     ]
    }
   ],
   "source": [
    "capital=[\"A\",\"B\",\"C\"]\n",
    "small=[\"a\",\"b\",\"c\"]\n",
    "print(capital)\n",
    "capital.extend(small)\n",
    "print(capital)"
   ]
  },
  {
   "cell_type": "markdown",
   "metadata": {
    "id": "1uVxlQQrlATo"
   },
   "source": [
    "index = returns the index of the first element with the specified value"
   ]
  },
  {
   "cell_type": "code",
   "execution_count": 10,
   "metadata": {
    "colab": {
     "base_uri": "https://localhost:8080/"
    },
    "id": "nWD21dUolG6L",
    "outputId": "79adce6e-7dc4-4ef6-b078-e23a1c0eec63"
   },
   "outputs": [
    {
     "name": "stdout",
     "output_type": "stream",
     "text": [
      "1\n",
      "2\n"
     ]
    }
   ],
   "source": [
    "print(small.index(\"b\"))\n",
    "print(small.index(\"c\"))"
   ]
  },
  {
   "cell_type": "markdown",
   "metadata": {
    "id": "j7FvgB99mHki"
   },
   "source": [
    "sort = sorts the list"
   ]
  },
  {
   "cell_type": "code",
   "execution_count": 11,
   "metadata": {
    "colab": {
     "base_uri": "https://localhost:8080/"
    },
    "id": "u2zFRFGKmK8m",
    "outputId": "10d2205d-0ce2-468f-db3e-e2649e84cb81"
   },
   "outputs": [
    {
     "name": "stdout",
     "output_type": "stream",
     "text": [
      "['kurtosis', 'mean', 'median', 'mode', 'mode', 'skewness', 'variance']\n"
     ]
    }
   ],
   "source": [
    "names.sort()\n",
    "print(names)"
   ]
  },
  {
   "cell_type": "code",
   "execution_count": 12,
   "metadata": {
    "colab": {
     "base_uri": "https://localhost:8080/"
    },
    "id": "9LGFD7rCri0K",
    "outputId": "37fb9ab1-7db0-4776-af70-b79bbd2f4921"
   },
   "outputs": [
    {
     "name": "stdout",
     "output_type": "stream",
     "text": [
      "(1, 5, 9, 2, 6, 0)\n",
      "('one', 'five', 'nine', 'two', 'six', 'zero')\n"
     ]
    }
   ],
   "source": [
    "t1=(1,5,9,2,6,0)\n",
    "t2=(\"one\",\"five\",\"nine\",\"two\",\"six\",\"zero\")\n",
    "print(t1)\n",
    "print(t2)"
   ]
  },
  {
   "cell_type": "markdown",
   "metadata": {
    "id": "L-c636IjstWp"
   },
   "source": [
    "access"
   ]
  },
  {
   "cell_type": "code",
   "execution_count": 13,
   "metadata": {
    "colab": {
     "base_uri": "https://localhost:8080/"
    },
    "id": "YRKx0bLssuff",
    "outputId": "2ba92009-2e53-4f2a-986e-a99fb5f44d47"
   },
   "outputs": [
    {
     "name": "stdout",
     "output_type": "stream",
     "text": [
      "(9, 2, 6, 0)\n",
      "('one', 'five', 'nine', 'two', 'six')\n"
     ]
    }
   ],
   "source": [
    "print(t1[2:])\n",
    "print(t2[:5])"
   ]
  }
 ],
 "metadata": {
  "colab": {
   "collapsed_sections": [],
   "name": "python 3",
   "provenance": []
  },
  "kernelspec": {
   "display_name": "Python 3 (ipykernel)",
   "language": "python",
   "name": "python3"
  },
  "language_info": {
   "codemirror_mode": {
    "name": "ipython",
    "version": 3
   },
   "file_extension": ".py",
   "mimetype": "text/x-python",
   "name": "python",
   "nbconvert_exporter": "python",
   "pygments_lexer": "ipython3",
   "version": "3.9.7"
  }
 },
 "nbformat": 4,
 "nbformat_minor": 1
}
