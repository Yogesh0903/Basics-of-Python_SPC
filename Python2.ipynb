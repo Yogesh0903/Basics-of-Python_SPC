{
 "cells": [
  {
   "cell_type": "code",
   "execution_count": 1,
   "metadata": {
    "colab": {
     "base_uri": "https://localhost:8080/"
    },
    "id": "PXbIPtLEWo4a",
    "outputId": "10533fc8-092d-47da-bdd3-5fa183102769"
   },
   "outputs": [
    {
     "name": "stdout",
     "output_type": "stream",
     "text": [
      "My name is Yogesh\n"
     ]
    }
   ],
   "source": [
    "def f1():\n",
    "    # globle X \n",
    "    X=\"Yogesh\"\n",
    "    print(\"My name is\", X)\n",
    "f1()  "
   ]
  },
  {
   "cell_type": "code",
   "execution_count": 2,
   "metadata": {
    "id": "oTERB3KIXxMm"
   },
   "outputs": [],
   "source": [
    "Y=\"Easy\"\n",
    "def f2():\n",
    "  # globle Y\n",
    "  x1=\"easy123\"\n",
    "  print(\"Python is \", x1)\n",
    "  print(\"Python is \", Y)\n",
    "  f2() "
   ]
  },
  {
   "cell_type": "markdown",
   "metadata": {
    "id": "nTQayOaWaoHh"
   },
   "source": [
    "To see the type of the variables"
   ]
  },
  {
   "cell_type": "code",
   "execution_count": 3,
   "metadata": {
    "colab": {
     "base_uri": "https://localhost:8080/"
    },
    "id": "ZMZloKMIYuo5",
    "outputId": "ef1ece94-9fc8-4592-a59f-dae0223592ee"
   },
   "outputs": [
    {
     "name": "stdout",
     "output_type": "stream",
     "text": [
      "5\n",
      "<class 'int'>\n",
      "Good Day!\n",
      "<class 'str'>\n",
      "global\n",
      "<class 'str'>\n"
     ]
    }
   ],
   "source": [
    "x, y, z = 5, \"Good Day!\", \"global\"\n",
    "print(x)\n",
    "print(type(x))\n",
    "print(y)\n",
    "print(type(y))\n",
    "print(z)\n",
    "print(type(z))"
   ]
  },
  {
   "cell_type": "code",
   "execution_count": 4,
   "metadata": {
    "colab": {
     "base_uri": "https://localhost:8080/"
    },
    "id": "-PudEO6_ZWMp",
    "outputId": "100c06bd-c427-47f1-e4a7-94723aed9852"
   },
   "outputs": [
    {
     "name": "stdout",
     "output_type": "stream",
     "text": [
      "9\n",
      "<class 'int'>\n"
     ]
    },
    {
     "data": {
      "text/plain": [
       "(9+0j)"
      ]
     },
     "execution_count": 4,
     "metadata": {},
     "output_type": "execute_result"
    }
   ],
   "source": [
    "x=9\n",
    "print(x)\n",
    "print(type(x))\n",
    "complex(x)"
   ]
  },
  {
   "cell_type": "markdown",
   "metadata": {
    "id": "dlJ0F-OibCrq"
   },
   "source": [
    "Addition of string variables"
   ]
  },
  {
   "cell_type": "code",
   "execution_count": 5,
   "metadata": {
    "colab": {
     "base_uri": "https://localhost:8080/",
     "height": 35
    },
    "id": "nV9T7IP8bGE6",
    "outputId": "465db842-4085-47af-c081-e342925737d5"
   },
   "outputs": [
    {
     "data": {
      "text/plain": [
       "'Yogesh Kumar Lalwani'"
      ]
     },
     "execution_count": 5,
     "metadata": {},
     "output_type": "execute_result"
    }
   ],
   "source": [
    "\"Yogesh\"+\" Kumar\"+\" Lalwani\""
   ]
  },
  {
   "cell_type": "markdown",
   "metadata": {
    "id": "QB_rhwkvdZXc"
   },
   "source": [
    "Converting the types of variables"
   ]
  },
  {
   "cell_type": "code",
   "execution_count": 6,
   "metadata": {
    "colab": {
     "base_uri": "https://localhost:8080/"
    },
    "id": "QInFgWB6baQ2",
    "outputId": "cf67ae69-c086-40a9-89b4-adf95954e709"
   },
   "outputs": [
    {
     "name": "stdout",
     "output_type": "stream",
     "text": [
      "Yogesh Kumar Lalwani\n",
      "1\n",
      "512.0\n",
      "(1.5+0j)\n",
      "(512+0j)\n"
     ]
    }
   ],
   "source": [
    "Name =\"Yogesh\"\n",
    "Middle_Name = \" Kumar\"\n",
    "Surname =\" Lalwani\"\n",
    "print(Name + Middle_Name+ Surname)\n",
    "a=1.5\n",
    "b=512\n",
    "c=8J\n",
    "print(int(a))\n",
    "print(float(b))\n",
    "print(complex(a))\n",
    "print(complex(b))"
   ]
  },
  {
   "cell_type": "markdown",
   "metadata": {
    "id": "jS9JNuB9maMY"
   },
   "source": [
    "Input function"
   ]
  },
  {
   "cell_type": "code",
   "execution_count": 7,
   "metadata": {
    "colab": {
     "base_uri": "https://localhost:8080/",
     "height": 53
    },
    "id": "zvg6MRtEdl2w",
    "outputId": "38a31e0f-909e-45ea-9f44-7e88aae98267"
   },
   "outputs": [
    {
     "name": "stdout",
     "output_type": "stream",
     "text": [
      "Hello\n"
     ]
    },
    {
     "data": {
      "text/plain": [
       "'Hello'"
      ]
     },
     "execution_count": 7,
     "metadata": {},
     "output_type": "execute_result"
    }
   ],
   "source": [
    "a=input()\n",
    "a"
   ]
  },
  {
   "cell_type": "code",
   "execution_count": 8,
   "metadata": {
    "colab": {
     "base_uri": "https://localhost:8080/"
    },
    "id": "9RHNcEIfd9BP",
    "outputId": "7e2e5831-4cbe-49f5-deda-e5c2c50b6016",
    "scrolled": false
   },
   "outputs": [
    {
     "data": {
      "text/plain": [
       "['False',\n",
       " 'None',\n",
       " 'True',\n",
       " '__peg_parser__',\n",
       " 'and',\n",
       " 'as',\n",
       " 'assert',\n",
       " 'async',\n",
       " 'await',\n",
       " 'break',\n",
       " 'class',\n",
       " 'continue',\n",
       " 'def',\n",
       " 'del',\n",
       " 'elif',\n",
       " 'else',\n",
       " 'except',\n",
       " 'finally',\n",
       " 'for',\n",
       " 'from',\n",
       " 'global',\n",
       " 'if',\n",
       " 'import',\n",
       " 'in',\n",
       " 'is',\n",
       " 'lambda',\n",
       " 'nonlocal',\n",
       " 'not',\n",
       " 'or',\n",
       " 'pass',\n",
       " 'raise',\n",
       " 'return',\n",
       " 'try',\n",
       " 'while',\n",
       " 'with',\n",
       " 'yield']"
      ]
     },
     "execution_count": 8,
     "metadata": {},
     "output_type": "execute_result"
    }
   ],
   "source": [
    "import keyword\n",
    "keyword.kwlist"
   ]
  },
  {
   "cell_type": "markdown",
   "metadata": {},
   "source": [
    ".strip() , .lower(), .upper(), .replace(), .split() functions"
   ]
  },
  {
   "cell_type": "code",
   "execution_count": 9,
   "metadata": {
    "colab": {
     "base_uri": "https://localhost:8080/"
    },
    "id": "kVA_XvjRf6Ee",
    "outputId": "37f58443-5cd4-4e12-b493-d7e98bb8979a"
   },
   "outputs": [
    {
     "name": "stdout",
     "output_type": "stream",
     "text": [
      "Hi how are you? from where their\n",
      "hi how are you? from where their\n",
      "HI HOW ARE YOU? FROM WHERE THEIR\n",
      "Hi hjw are yju? frjm where their\n",
      "['Hi h', 'w are y', 'u? fr', 'm where their']\n"
     ]
    }
   ],
   "source": [
    "a=\"Hi how are you? from where their\"\n",
    "print(a.strip())\n",
    "print(a.lower())\n",
    "print(a.upper())\n",
    "print(a.replace(\"o\",\"j\"))\n",
    "print(a.split(\"o\"))"
   ]
  },
  {
   "cell_type": "markdown",
   "metadata": {
    "id": "tl4db9iTk-h2"
   },
   "source": [
    ".format function"
   ]
  },
  {
   "cell_type": "code",
   "execution_count": 10,
   "metadata": {
    "colab": {
     "base_uri": "https://localhost:8080/"
    },
    "id": "OIEts_gchKVQ",
    "outputId": "4b441663-4fff-42d9-eeb1-565bd2d49782"
   },
   "outputs": [
    {
     "name": "stdout",
     "output_type": "stream",
     "text": [
      "My name is Yogesh, & I'm 21 Years\n"
     ]
    }
   ],
   "source": [
    "age=21\n",
    "txt=\"My name is Yogesh, & I'm {} Years\"\n",
    "print(txt.format(age))"
   ]
  },
  {
   "cell_type": "code",
   "execution_count": 11,
   "metadata": {
    "colab": {
     "base_uri": "https://localhost:8080/"
    },
    "id": "taIwD03phgEI",
    "outputId": "7949c0d2-6c7a-4013-940a-976ec21f9344"
   },
   "outputs": [
    {
     "name": "stdout",
     "output_type": "stream",
     "text": [
      "I want 15 pieces of Biscuits for 10 rupees\n",
      "Your total bill is 150 rupees\n"
     ]
    }
   ],
   "source": [
    "quantity=15\n",
    "item=\"Biscuits\"\n",
    "price=10\n",
    "myorder=\"I want {} pieces of {} for {} rupees\"\n",
    "print(myorder.format(quantity,item,price))\n",
    "total_bill = quantity * price\n",
    "Bill = \"Your total bill is {} rupees\"\n",
    "print(Bill.format(total_bill))"
   ]
  },
  {
   "cell_type": "code",
   "execution_count": 12,
   "metadata": {
    "colab": {
     "base_uri": "https://localhost:8080/",
     "height": 70
    },
    "id": "9tPJEQpVihaZ",
    "outputId": "85826f06-2258-4c71-e1dc-c653f64e0f9a"
   },
   "outputs": [
    {
     "name": "stdout",
     "output_type": "stream",
     "text": [
      "Please enter your name Yogesh\n",
      "Please enter your age 21\n"
     ]
    },
    {
     "data": {
      "text/plain": [
       "\"My name is Yogesh & I'm 21 years old\""
      ]
     },
     "execution_count": 12,
     "metadata": {},
     "output_type": "execute_result"
    }
   ],
   "source": [
    "name=input(\"Please enter your name \")\n",
    "age=input(\"Please enter your age \")\n",
    "\"My name is {} & I'm {} years old\".format(name,age)"
   ]
  },
  {
   "cell_type": "code",
   "execution_count": 13,
   "metadata": {
    "colab": {
     "base_uri": "https://localhost:8080/",
     "height": 105
    },
    "id": "wOuCvg_BjTy8",
    "outputId": "45acf3fd-ee3c-4774-aae0-7bdf8282bb68"
   },
   "outputs": [
    {
     "name": "stdout",
     "output_type": "stream",
     "text": [
      "Yogesh\n",
      "21\n",
      "TYBSc\n",
      "SPC\n"
     ]
    },
    {
     "data": {
      "text/plain": [
       "\"My name is Yogesh, I'm 21 years old, I study in TYBSc in SPC\""
      ]
     },
     "execution_count": 13,
     "metadata": {},
     "output_type": "execute_result"
    }
   ],
   "source": [
    "name=input()\n",
    "age=input()\n",
    "Class=input()\n",
    "clg=input()\n",
    "\"My name is {}, I'm {} years old, I study in {} in {}\".format(name,age,Class,clg)"
   ]
  },
  {
   "cell_type": "code",
   "execution_count": 14,
   "metadata": {
    "colab": {
     "base_uri": "https://localhost:8080/",
     "height": 105
    },
    "id": "gVTJ8WPakIlR",
    "outputId": "3503a6d5-4e8b-43a0-9f42-d81c8ad14e5a"
   },
   "outputs": [
    {
     "name": "stdout",
     "output_type": "stream",
     "text": [
      "Enter your name Yogesh\n",
      "Enter your age 21\n",
      "Ënter your class TYBSc\n",
      "Enter your College Name SPC\n"
     ]
    },
    {
     "data": {
      "text/plain": [
       "\"My name is Yogesh , I'm 21 years old , I study in TYBSc in SPC \""
      ]
     },
     "execution_count": 14,
     "metadata": {},
     "output_type": "execute_result"
    }
   ],
   "source": [
    "name=input(\"Enter your name \",)\n",
    "age=input(\"Enter your age \",)\n",
    "Class=input(\"Ënter your class \",)\n",
    "clg=input(\"Enter your College Name \",)\n",
    "\"My name is {} , I'm {} years old , I study in {} in {} \".format(name,age,Class,clg)"
   ]
  },
  {
   "cell_type": "code",
   "execution_count": 15,
   "metadata": {
    "colab": {
     "base_uri": "https://localhost:8080/"
    },
    "id": "msJHo7E8mpRH",
    "outputId": "ede04c36-6b30-43bd-e560-383d466d117d"
   },
   "outputs": [
    {
     "name": "stdout",
     "output_type": "stream",
     "text": [
      "I want 15 pieces of Biscuit for 10 rupees. Ruppes is an Indian currency\n"
     ]
    }
   ],
   "source": [
    "quantity=15\n",
    "item=\"Biscuit\"\n",
    "price=10\n",
    "country=\"Indian\"\n",
    "myorder=\"I want {c} pieces of {b} for {d} rupees. Ruppes is an {a} currency\"\n",
    "print(myorder.format(a=country,b=item,c=quantity,d=price))"
   ]
  }
 ],
 "metadata": {
  "colab": {
   "collapsed_sections": [],
   "name": "Python2",
   "provenance": []
  },
  "kernelspec": {
   "display_name": "Python 3 (ipykernel)",
   "language": "python",
   "name": "python3"
  },
  "language_info": {
   "codemirror_mode": {
    "name": "ipython",
    "version": 3
   },
   "file_extension": ".py",
   "mimetype": "text/x-python",
   "name": "python",
   "nbconvert_exporter": "python",
   "pygments_lexer": "ipython3",
   "version": "3.9.7"
  }
 },
 "nbformat": 4,
 "nbformat_minor": 1
}
